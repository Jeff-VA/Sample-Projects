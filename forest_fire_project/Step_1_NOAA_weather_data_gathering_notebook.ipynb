{
 "cells": [
  {
   "cell_type": "code",
   "execution_count": 1,
   "metadata": {},
   "outputs": [],
   "source": [
    "from google.cloud import bigquery\n",
    "from tqdm import tqdm_notebook\n",
    "import pandas as pd\n",
    "import os"
   ]
  },
  {
   "cell_type": "code",
   "execution_count": 2,
   "metadata": {},
   "outputs": [],
   "source": [
    "#assign google big query credential variable and client\n",
    "os.environ[\"GOOGLE_APPLICATION_CREDENTIALS\"]=\"bigquerykey.json\"\n",
    "bqclient = bigquery.Client()"
   ]
  },
  {
   "cell_type": "code",
   "execution_count": 3,
   "metadata": {
    "scrolled": true
   },
   "outputs": [
    {
     "name": "stderr",
     "output_type": "stream",
     "text": [
      "C:\\Users\\Jeffrey\\Anaconda3\\lib\\site-packages\\google\\cloud\\bigquery\\client.py:440: UserWarning: Cannot create BigQuery Storage client, the dependency google-cloud-bigquery-storage is not installed.\n",
      "  \"Cannot create BigQuery Storage client, the dependency \"\n"
     ]
    }
   ],
   "source": [
    "#define station query\n",
    "query = ('SELECT * FROM bigquery-public-data.noaa_gsod.stations')\n",
    "\n",
    "#use google big query client to retreive data and create noaa_df dataframe\n",
    "noaa_df = bqclient.query(query).result().to_dataframe()\n",
    "noaa_df.to_csv('weatherdata/stations.csv', index = False)"
   ]
  },
  {
   "cell_type": "code",
   "execution_count": 4,
   "metadata": {},
   "outputs": [
    {
     "data": {
      "application/vnd.jupyter.widget-view+json": {
       "model_id": "c333850ace224395953d4a52ec517e6c",
       "version_major": 2,
       "version_minor": 0
      },
      "text/plain": [
       "HBox(children=(IntProgress(value=0, max=24), HTML(value='')))"
      ]
     },
     "metadata": {},
     "output_type": "display_data"
    },
    {
     "name": "stdout",
     "output_type": "stream",
     "text": [
      "\n"
     ]
    }
   ],
   "source": [
    "#creates master dataframe with all weather data\n",
    "for year in tqdm_notebook(range(1992, 2016)):\n",
    "    query = \"SELECT * FROM `bigquery-public-data.noaa_gsod.gsod{}`\".format(year)\n",
    "    df = bqclient.query(query).result().to_dataframe()\n",
    "    filename = 'weatherdata/US_weather_{}.csv'.format(year)\n",
    "    df.to_csv(filename, index = False)"
   ]
  },
  {
   "cell_type": "code",
   "execution_count": null,
   "metadata": {},
   "outputs": [],
   "source": []
  }
 ],
 "metadata": {
  "kernelspec": {
   "display_name": "Python 3",
   "language": "python",
   "name": "python3"
  },
  "language_info": {
   "codemirror_mode": {
    "name": "ipython",
    "version": 3
   },
   "file_extension": ".py",
   "mimetype": "text/x-python",
   "name": "python",
   "nbconvert_exporter": "python",
   "pygments_lexer": "ipython3",
   "version": "3.7.3"
  }
 },
 "nbformat": 4,
 "nbformat_minor": 2
}
