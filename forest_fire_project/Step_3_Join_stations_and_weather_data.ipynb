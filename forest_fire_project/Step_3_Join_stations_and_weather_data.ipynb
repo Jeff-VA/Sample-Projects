{
 "cells": [
  {
   "cell_type": "markdown",
   "metadata": {},
   "source": [
    "# Import Fire Data, the loop through and join weather data for each year"
   ]
  },
  {
   "cell_type": "markdown",
   "metadata": {},
   "source": [
    "## Dataset creation steps\n",
    "\n",
    "1. **firedf**: \n",
    "    * import fire dataset\n",
    "    * create composite date + refkey column for joining weatherdata\n",
    "    * drop clearly unnecessary columns\n",
    "    `['DISCOVERY_DOY','LATITUDE','LONGITUDE','ref_key']`\n",
    "2. **weather_df**: loop through weather datasets for each year\n",
    "    * drop clearly unnecessary columns:\n",
    "    `['stn','wban','year','mo','da','count_temp','count_dewp','count_slp','count_stp',\n",
    "       'count_visib','count_wdsp','flag_max','flag_min','flag_prcp']`\n",
    "    * merge to fire data subset for each year\n",
    "3. Remove remaining extraneous columns\n",
    "    `['FORMATTED_DATE','weather_obs_key','date_ref_key','stp','sndp','ref_key','STATE']`\n",
    "4. Create `month` column and drop `formatted_date` for analysis\n",
    "5. Export dataset entitled: `pre_cleaning_dataset.csv`"
   ]
  },
  {
   "cell_type": "code",
   "execution_count": 1,
   "metadata": {},
   "outputs": [],
   "source": [
    "#import packages\n",
    "import pandas as pd\n",
    "import calendar\n",
    "from tqdm import tqdm_notebook as tqdm"
   ]
  },
  {
   "cell_type": "code",
   "execution_count": 2,
   "metadata": {},
   "outputs": [],
   "source": [
    "#import fire dataset\n",
    "firedf = pd.read_csv('full_fire_output_allstations_345.csv')\n",
    "#create date reference key column for merging\n",
    "firedf['date_ref_key'] = firedf['FORMATTED_DATE'].astype('str') + firedf['weather_obs_key'].astype('str')\n",
    "#drop unnecessary firedf columns\n",
    "firedf.drop(columns=['DISCOVERY_DOY','LATITUDE','LONGITUDE','ref_key'], inplace=True)"
   ]
  },
  {
   "cell_type": "code",
   "execution_count": 3,
   "metadata": {},
   "outputs": [
    {
     "data": {
      "application/vnd.jupyter.widget-view+json": {
       "model_id": "8a7f265baa304781b01b684244c09cfb",
       "version_major": 2,
       "version_minor": 0
      },
      "text/plain": [
       "HBox(children=(IntProgress(value=0, max=24), HTML(value='')))"
      ]
     },
     "metadata": {},
     "output_type": "display_data"
    },
    {
     "name": "stdout",
     "output_type": "stream",
     "text": [
      "\n"
     ]
    }
   ],
   "source": [
    "#declare final dataframe\n",
    "final_df = pd.DataFrame()\n",
    "#loop through weather datasets for each year and join to fire data\n",
    "for year in tqdm(range(1992, 2016)):\n",
    "    #get weather data csv\n",
    "    weather_df = pd.read_csv('weatherdata/US_weather_{}.csv'.format(year), low_memory=False)\n",
    "    #create date column yyyy-mm-dd\n",
    "    weather_df['formatted_date'] = pd.to_datetime(weather_df['year']*10000+weather_df['mo']*100+weather_df['da'],\n",
    "                                                    format='%Y%m%d')\n",
    "    #create refkey column\n",
    "    weather_df['ref_key'] = weather_df['stn'].astype('str') + weather_df['wban'].astype('str')\n",
    "    #create daterefkey column for merging\n",
    "    weather_df['date_ref_key'] = weather_df['formatted_date'].astype('str') + weather_df['ref_key']\n",
    "    #drop unnecessary weather_df columns\n",
    "    weather_df.drop(columns=['stn','wban','year','mo','da','count_temp','count_dewp','count_slp','count_stp',\n",
    "                             'count_visib','count_wdsp','flag_max','flag_min','flag_prcp'], inplace=True)\n",
    "    #segment firedf for specified year\n",
    "    firedf_year = firedf[firedf['FIRE_YEAR'] == year]\n",
    "    #mergedataframs per yer segment\n",
    "    firedf_year = pd.merge(firedf_year, weather_df, how='inner', left_on='date_ref_key',right_on='date_ref_key')\n",
    "    final_df = final_df.append(firedf_year)"
   ]
  },
  {
   "cell_type": "code",
   "execution_count": 4,
   "metadata": {},
   "outputs": [],
   "source": [
    "#drop reference columns, redundant columns, and columns with not enough data\n",
    "final_df.drop(columns=['FORMATTED_DATE','weather_obs_key','date_ref_key',\n",
    "                       'stp','sndp','ref_key','STATE'], inplace=True)"
   ]
  },
  {
   "cell_type": "code",
   "execution_count": 5,
   "metadata": {},
   "outputs": [],
   "source": [
    "#create `month` variable and drop `formatted_date`\n",
    "#convert date column to datetime\n",
    "final_df['formatted_date'] = pd.to_datetime(final_df['formatted_date'])\n",
    "#create month column\n",
    "final_df['month'] = final_df['formatted_date'].dt.month\n",
    "#drop date column\n",
    "final_df.drop(columns='formatted_date', inplace=True)\n",
    "#convert integer values to month name\n",
    "final_df['month'] = final_df['month'].apply(lambda x: calendar.month_abbr[x])"
   ]
  },
  {
   "cell_type": "code",
   "execution_count": 6,
   "metadata": {},
   "outputs": [],
   "source": [
    "#export final_df to csv\n",
    "final_df.to_csv('pre_cleaning_dataset.csv', index=False)"
   ]
  }
 ],
 "metadata": {
  "kernelspec": {
   "display_name": "Python 3",
   "language": "python",
   "name": "python3"
  },
  "language_info": {
   "codemirror_mode": {
    "name": "ipython",
    "version": 3
   },
   "file_extension": ".py",
   "mimetype": "text/x-python",
   "name": "python",
   "nbconvert_exporter": "python",
   "pygments_lexer": "ipython3",
   "version": "3.7.3"
  }
 },
 "nbformat": 4,
 "nbformat_minor": 4
}
