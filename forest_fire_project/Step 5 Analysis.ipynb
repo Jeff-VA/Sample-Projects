{
 "cells": [
  {
   "cell_type": "code",
   "execution_count": 1,
   "metadata": {},
   "outputs": [
    {
     "name": "stderr",
     "output_type": "stream",
     "text": [
      "C:\\Users\\Jeffrey\\Anaconda3\\lib\\site-packages\\sklearn\\utils\\deprecation.py:143: FutureWarning: The sklearn.metrics.classification module is  deprecated in version 0.22 and will be removed in version 0.24. The corresponding classes / functions should instead be imported from sklearn.metrics. Anything that cannot be imported from sklearn.metrics is now part of the private API.\n",
      "  warnings.warn(message, FutureWarning)\n"
     ]
    }
   ],
   "source": [
    "#import necessary manipulation packages\n",
    "import numpy as np\n",
    "import pandas as pd\n",
    "import matplotlib.pyplot as plt\n",
    "import seaborn as sns\n",
    "from tqdm import tqdm_notebook as tqdm\n",
    "\n",
    "#display matplot lib generated visualizations in notebook\n",
    "%matplotlib inline\n",
    "\n",
    "#import necessary regression packages\n",
    "from sklearn.linear_model import LinearRegression\n",
    "from sklearn.model_selection import train_test_split\n",
    "from sklearn.metrics import r2_score\n",
    "import statsmodels.api as sm\n",
    "from sklearn.metrics import r2_score\n",
    "from statsmodels.stats.outliers_influence import variance_inflation_factor\n",
    "from sklearn.compose import TransformedTargetRegressor\n",
    "from yellowbrick.regressor import ResidualsPlot"
   ]
  },
  {
   "cell_type": "code",
   "execution_count": 2,
   "metadata": {},
   "outputs": [],
   "source": [
    "#import dataset\n",
    "df = pd.read_csv('clean_dataset.csv')"
   ]
  },
  {
   "cell_type": "markdown",
   "metadata": {},
   "source": [
    "### Step 1: Train regression model with all predictor variables"
   ]
  },
  {
   "cell_type": "code",
   "execution_count": 3,
   "metadata": {},
   "outputs": [
    {
     "name": "stderr",
     "output_type": "stream",
     "text": [
      "C:\\Users\\Jeffrey\\Anaconda3\\lib\\site-packages\\numpy\\core\\fromnumeric.py:2389: FutureWarning: Method .ptp is deprecated and will be removed in a future version. Use numpy.ptp instead.\n",
      "  return ptp(axis=axis, out=out, **kwargs)\n"
     ]
    },
    {
     "name": "stdout",
     "output_type": "stream",
     "text": [
      "Model R-squared without log tranformation: 0.0023123407824146014\n",
      "Model R-squared with log tranformation: 0.10073670443446958\n"
     ]
    }
   ],
   "source": [
    "#split data to training and test\n",
    "x = df.drop(columns='FIRE_SIZE')\n",
    "y = df['FIRE_SIZE']\n",
    "x_train, x_test, y_train, y_test = train_test_split(x, y, test_size=0.3, random_state=42)\n",
    "\n",
    "#save full train and test variables for later visualizations\n",
    "x_train_full = x_train.copy()\n",
    "x_test_full = x_test.copy()\n",
    "y_train_full = y_train.copy()\n",
    "y_test_full = y_test.copy()\n",
    "\n",
    "#create multiple regression model with all predictor variables \n",
    "Xc = sm.add_constant(x_train)\n",
    "linear_regression = sm.OLS(y_train,Xc)\n",
    "full_fitted_model = linear_regression.fit()\n",
    "print('Model R-squared without log tranformation: {}'.format(full_fitted_model.rsquared))\n",
    "\n",
    "#create multiple regression model log transformed with all predictor variables \n",
    "Xc = sm.add_constant(x_train)\n",
    "linear_regression = sm.OLS(np.log(y_train),Xc)\n",
    "full_fitted_model = linear_regression.fit()\n",
    "print('Model R-squared with log tranformation: {}'.format(full_fitted_model.rsquared))"
   ]
  },
  {
   "cell_type": "code",
   "execution_count": 4,
   "metadata": {},
   "outputs": [
    {
     "data": {
      "text/html": [
       "<table class=\"simpletable\">\n",
       "<caption>OLS Regression Results</caption>\n",
       "<tr>\n",
       "  <th>Dep. Variable:</th>        <td>FIRE_SIZE</td>    <th>  R-squared:         </th>  <td>   0.101</td>  \n",
       "</tr>\n",
       "<tr>\n",
       "  <th>Model:</th>                   <td>OLS</td>       <th>  Adj. R-squared:    </th>  <td>   0.101</td>  \n",
       "</tr>\n",
       "<tr>\n",
       "  <th>Method:</th>             <td>Least Squares</td>  <th>  F-statistic:       </th>  <td>   2908.</td>  \n",
       "</tr>\n",
       "<tr>\n",
       "  <th>Date:</th>             <td>Sun, 03 Jan 2021</td> <th>  Prob (F-statistic):</th>   <td>  0.00</td>   \n",
       "</tr>\n",
       "<tr>\n",
       "  <th>Time:</th>                 <td>17:32:17</td>     <th>  Log-Likelihood:    </th> <td>-2.2672e+06</td>\n",
       "</tr>\n",
       "<tr>\n",
       "  <th>No. Observations:</th>      <td>1064293</td>     <th>  AIC:               </th>  <td>4.534e+06</td> \n",
       "</tr>\n",
       "<tr>\n",
       "  <th>Df Residuals:</th>          <td>1064251</td>     <th>  BIC:               </th>  <td>4.535e+06</td> \n",
       "</tr>\n",
       "<tr>\n",
       "  <th>Df Model:</th>              <td>    41</td>      <th>                     </th>      <td> </td>     \n",
       "</tr>\n",
       "<tr>\n",
       "  <th>Covariance Type:</th>      <td>nonrobust</td>    <th>                     </th>      <td> </td>     \n",
       "</tr>\n",
       "</table>\n",
       "<table class=\"simpletable\">\n",
       "<tr>\n",
       "                   <td></td>                     <th>coef</th>     <th>std err</th>      <th>t</th>      <th>P>|t|</th>  <th>[0.025</th>    <th>0.975]</th>  \n",
       "</tr>\n",
       "<tr>\n",
       "  <th>const</th>                              <td>   -9.3140</td> <td>    0.875</td> <td>  -10.641</td> <td> 0.000</td> <td>  -11.030</td> <td>   -7.598</td>\n",
       "</tr>\n",
       "<tr>\n",
       "  <th>FIRE_YEAR</th>                          <td>   -0.0038</td> <td>    0.000</td> <td>  -10.980</td> <td> 0.000</td> <td>   -0.004</td> <td>   -0.003</td>\n",
       "</tr>\n",
       "<tr>\n",
       "  <th>distance</th>                           <td>    0.0080</td> <td>    0.000</td> <td>   77.792</td> <td> 0.000</td> <td>    0.008</td> <td>    0.008</td>\n",
       "</tr>\n",
       "<tr>\n",
       "  <th>temp</th>                               <td>   -0.0056</td> <td>    0.001</td> <td>   -5.675</td> <td> 0.000</td> <td>   -0.007</td> <td>   -0.004</td>\n",
       "</tr>\n",
       "<tr>\n",
       "  <th>dewp</th>                               <td>    0.0012</td> <td>    0.000</td> <td>    4.555</td> <td> 0.000</td> <td>    0.001</td> <td>    0.002</td>\n",
       "</tr>\n",
       "<tr>\n",
       "  <th>slp</th>                                <td>    0.0148</td> <td>    0.001</td> <td>   29.523</td> <td> 0.000</td> <td>    0.014</td> <td>    0.016</td>\n",
       "</tr>\n",
       "<tr>\n",
       "  <th>visib</th>                              <td>   -0.0020</td> <td>    0.002</td> <td>   -1.144</td> <td> 0.253</td> <td>   -0.005</td> <td>    0.001</td>\n",
       "</tr>\n",
       "<tr>\n",
       "  <th>wdsp</th>                               <td>    0.0345</td> <td>    0.001</td> <td>   26.650</td> <td> 0.000</td> <td>    0.032</td> <td>    0.037</td>\n",
       "</tr>\n",
       "<tr>\n",
       "  <th>mxpsd</th>                              <td>    0.0011</td> <td>    0.001</td> <td>    1.269</td> <td> 0.204</td> <td>   -0.001</td> <td>    0.003</td>\n",
       "</tr>\n",
       "<tr>\n",
       "  <th>gust</th>                               <td>   -0.0070</td> <td>    0.001</td> <td>   -9.729</td> <td> 0.000</td> <td>   -0.008</td> <td>   -0.006</td>\n",
       "</tr>\n",
       "<tr>\n",
       "  <th>max</th>                                <td>    0.0301</td> <td>    0.001</td> <td>   52.616</td> <td> 0.000</td> <td>    0.029</td> <td>    0.031</td>\n",
       "</tr>\n",
       "<tr>\n",
       "  <th>min</th>                                <td>    0.0077</td> <td>    0.001</td> <td>   13.386</td> <td> 0.000</td> <td>    0.007</td> <td>    0.009</td>\n",
       "</tr>\n",
       "<tr>\n",
       "  <th>prcp</th>                               <td>   -0.1148</td> <td>    0.016</td> <td>   -7.176</td> <td> 0.000</td> <td>   -0.146</td> <td>   -0.083</td>\n",
       "</tr>\n",
       "<tr>\n",
       "  <th>fog</th>                                <td>   -0.0913</td> <td>    0.008</td> <td>  -11.805</td> <td> 0.000</td> <td>   -0.106</td> <td>   -0.076</td>\n",
       "</tr>\n",
       "<tr>\n",
       "  <th>rain_drizzle</th>                       <td>   -0.2715</td> <td>    0.007</td> <td>  -38.562</td> <td> 0.000</td> <td>   -0.285</td> <td>   -0.258</td>\n",
       "</tr>\n",
       "<tr>\n",
       "  <th>snow_ice_pellets</th>                   <td>    0.0899</td> <td>    0.028</td> <td>    3.203</td> <td> 0.001</td> <td>    0.035</td> <td>    0.145</td>\n",
       "</tr>\n",
       "<tr>\n",
       "  <th>hail</th>                               <td>   -0.5354</td> <td>    0.108</td> <td>   -4.936</td> <td> 0.000</td> <td>   -0.748</td> <td>   -0.323</td>\n",
       "</tr>\n",
       "<tr>\n",
       "  <th>thunder</th>                            <td>    0.0238</td> <td>    0.010</td> <td>    2.351</td> <td> 0.019</td> <td>    0.004</td> <td>    0.044</td>\n",
       "</tr>\n",
       "<tr>\n",
       "  <th>tornado_funnel_cloud</th>               <td>    0.5566</td> <td>    0.225</td> <td>    2.474</td> <td> 0.013</td> <td>    0.116</td> <td>    0.998</td>\n",
       "</tr>\n",
       "<tr>\n",
       "  <th>month_Aug</th>                          <td>   -1.1168</td> <td>    0.009</td> <td> -118.892</td> <td> 0.000</td> <td>   -1.135</td> <td>   -1.098</td>\n",
       "</tr>\n",
       "<tr>\n",
       "  <th>month_Dec</th>                          <td>    0.2538</td> <td>    0.012</td> <td>   20.335</td> <td> 0.000</td> <td>    0.229</td> <td>    0.278</td>\n",
       "</tr>\n",
       "<tr>\n",
       "  <th>month_Feb</th>                          <td>    0.5295</td> <td>    0.009</td> <td>   58.484</td> <td> 0.000</td> <td>    0.512</td> <td>    0.547</td>\n",
       "</tr>\n",
       "<tr>\n",
       "  <th>month_Jan</th>                          <td>    0.4700</td> <td>    0.011</td> <td>   44.678</td> <td> 0.000</td> <td>    0.449</td> <td>    0.491</td>\n",
       "</tr>\n",
       "<tr>\n",
       "  <th>month_Jul</th>                          <td>   -1.2310</td> <td>    0.009</td> <td> -133.558</td> <td> 0.000</td> <td>   -1.249</td> <td>   -1.213</td>\n",
       "</tr>\n",
       "<tr>\n",
       "  <th>month_Jun</th>                          <td>   -0.9059</td> <td>    0.010</td> <td>  -94.115</td> <td> 0.000</td> <td>   -0.925</td> <td>   -0.887</td>\n",
       "</tr>\n",
       "<tr>\n",
       "  <th>month_Mar</th>                          <td>    0.4242</td> <td>    0.008</td> <td>   53.870</td> <td> 0.000</td> <td>    0.409</td> <td>    0.440</td>\n",
       "</tr>\n",
       "<tr>\n",
       "  <th>month_May</th>                          <td>   -0.6900</td> <td>    0.009</td> <td>  -77.624</td> <td> 0.000</td> <td>   -0.707</td> <td>   -0.673</td>\n",
       "</tr>\n",
       "<tr>\n",
       "  <th>month_Nov</th>                          <td>    0.0943</td> <td>    0.010</td> <td>    9.031</td> <td> 0.000</td> <td>    0.074</td> <td>    0.115</td>\n",
       "</tr>\n",
       "<tr>\n",
       "  <th>month_Oct</th>                          <td>   -0.4000</td> <td>    0.010</td> <td>  -39.637</td> <td> 0.000</td> <td>   -0.420</td> <td>   -0.380</td>\n",
       "</tr>\n",
       "<tr>\n",
       "  <th>month_Sep</th>                          <td>   -0.8674</td> <td>    0.010</td> <td>  -88.341</td> <td> 0.000</td> <td>   -0.887</td> <td>   -0.848</td>\n",
       "</tr>\n",
       "<tr>\n",
       "  <th>STAT_CAUSE_DESCR_Campfire</th>          <td>   -1.1997</td> <td>    0.011</td> <td> -105.859</td> <td> 0.000</td> <td>   -1.222</td> <td>   -1.177</td>\n",
       "</tr>\n",
       "<tr>\n",
       "  <th>STAT_CAUSE_DESCR_Children</th>          <td>   -1.1972</td> <td>    0.012</td> <td>  -98.423</td> <td> 0.000</td> <td>   -1.221</td> <td>   -1.173</td>\n",
       "</tr>\n",
       "<tr>\n",
       "  <th>STAT_CAUSE_DESCR_Debris Burning</th>    <td>   -0.4469</td> <td>    0.006</td> <td>  -69.737</td> <td> 0.000</td> <td>   -0.459</td> <td>   -0.434</td>\n",
       "</tr>\n",
       "<tr>\n",
       "  <th>STAT_CAUSE_DESCR_Equipment Use</th>     <td>   -0.6216</td> <td>    0.009</td> <td>  -71.074</td> <td> 0.000</td> <td>   -0.639</td> <td>   -0.604</td>\n",
       "</tr>\n",
       "<tr>\n",
       "  <th>STAT_CAUSE_DESCR_Fireworks</th>         <td>   -0.9535</td> <td>    0.026</td> <td>  -36.239</td> <td> 0.000</td> <td>   -1.005</td> <td>   -0.902</td>\n",
       "</tr>\n",
       "<tr>\n",
       "  <th>STAT_CAUSE_DESCR_Lightning</th>         <td>   -0.6244</td> <td>    0.008</td> <td>  -73.870</td> <td> 0.000</td> <td>   -0.641</td> <td>   -0.608</td>\n",
       "</tr>\n",
       "<tr>\n",
       "  <th>STAT_CAUSE_DESCR_Miscellaneous</th>     <td>   -0.8341</td> <td>    0.007</td> <td> -118.754</td> <td> 0.000</td> <td>   -0.848</td> <td>   -0.820</td>\n",
       "</tr>\n",
       "<tr>\n",
       "  <th>STAT_CAUSE_DESCR_Missing/Undefined</th> <td>   -0.6469</td> <td>    0.008</td> <td>  -76.783</td> <td> 0.000</td> <td>   -0.663</td> <td>   -0.630</td>\n",
       "</tr>\n",
       "<tr>\n",
       "  <th>STAT_CAUSE_DESCR_Powerline</th>         <td>   -0.4452</td> <td>    0.024</td> <td>  -18.212</td> <td> 0.000</td> <td>   -0.493</td> <td>   -0.397</td>\n",
       "</tr>\n",
       "<tr>\n",
       "  <th>STAT_CAUSE_DESCR_Railroad</th>          <td>   -0.5539</td> <td>    0.015</td> <td>  -36.238</td> <td> 0.000</td> <td>   -0.584</td> <td>   -0.524</td>\n",
       "</tr>\n",
       "<tr>\n",
       "  <th>STAT_CAUSE_DESCR_Smoking</th>           <td>   -1.0671</td> <td>    0.013</td> <td>  -81.741</td> <td> 0.000</td> <td>   -1.093</td> <td>   -1.042</td>\n",
       "</tr>\n",
       "<tr>\n",
       "  <th>STAT_CAUSE_DESCR_Structure</th>         <td>   -1.1344</td> <td>    0.045</td> <td>  -25.193</td> <td> 0.000</td> <td>   -1.223</td> <td>   -1.046</td>\n",
       "</tr>\n",
       "</table>\n",
       "<table class=\"simpletable\">\n",
       "<tr>\n",
       "  <th>Omnibus:</th>       <td>113566.214</td> <th>  Durbin-Watson:     </th>  <td>   2.003</td> \n",
       "</tr>\n",
       "<tr>\n",
       "  <th>Prob(Omnibus):</th>   <td> 0.000</td>   <th>  Jarque-Bera (JB):  </th> <td>193310.366</td>\n",
       "</tr>\n",
       "<tr>\n",
       "  <th>Skew:</th>            <td> 0.749</td>   <th>  Prob(JB):          </th>  <td>    0.00</td> \n",
       "</tr>\n",
       "<tr>\n",
       "  <th>Kurtosis:</th>        <td> 4.454</td>   <th>  Cond. No.          </th>  <td>9.98e+05</td> \n",
       "</tr>\n",
       "</table><br/><br/>Warnings:<br/>[1] Standard Errors assume that the covariance matrix of the errors is correctly specified.<br/>[2] The condition number is large, 9.98e+05. This might indicate that there are<br/>strong multicollinearity or other numerical problems."
      ],
      "text/plain": [
       "<class 'statsmodels.iolib.summary.Summary'>\n",
       "\"\"\"\n",
       "                            OLS Regression Results                            \n",
       "==============================================================================\n",
       "Dep. Variable:              FIRE_SIZE   R-squared:                       0.101\n",
       "Model:                            OLS   Adj. R-squared:                  0.101\n",
       "Method:                 Least Squares   F-statistic:                     2908.\n",
       "Date:                Sun, 03 Jan 2021   Prob (F-statistic):               0.00\n",
       "Time:                        17:32:17   Log-Likelihood:            -2.2672e+06\n",
       "No. Observations:             1064293   AIC:                         4.534e+06\n",
       "Df Residuals:                 1064251   BIC:                         4.535e+06\n",
       "Df Model:                          41                                         \n",
       "Covariance Type:            nonrobust                                         \n",
       "======================================================================================================\n",
       "                                         coef    std err          t      P>|t|      [0.025      0.975]\n",
       "------------------------------------------------------------------------------------------------------\n",
       "const                                 -9.3140      0.875    -10.641      0.000     -11.030      -7.598\n",
       "FIRE_YEAR                             -0.0038      0.000    -10.980      0.000      -0.004      -0.003\n",
       "distance                               0.0080      0.000     77.792      0.000       0.008       0.008\n",
       "temp                                  -0.0056      0.001     -5.675      0.000      -0.007      -0.004\n",
       "dewp                                   0.0012      0.000      4.555      0.000       0.001       0.002\n",
       "slp                                    0.0148      0.001     29.523      0.000       0.014       0.016\n",
       "visib                                 -0.0020      0.002     -1.144      0.253      -0.005       0.001\n",
       "wdsp                                   0.0345      0.001     26.650      0.000       0.032       0.037\n",
       "mxpsd                                  0.0011      0.001      1.269      0.204      -0.001       0.003\n",
       "gust                                  -0.0070      0.001     -9.729      0.000      -0.008      -0.006\n",
       "max                                    0.0301      0.001     52.616      0.000       0.029       0.031\n",
       "min                                    0.0077      0.001     13.386      0.000       0.007       0.009\n",
       "prcp                                  -0.1148      0.016     -7.176      0.000      -0.146      -0.083\n",
       "fog                                   -0.0913      0.008    -11.805      0.000      -0.106      -0.076\n",
       "rain_drizzle                          -0.2715      0.007    -38.562      0.000      -0.285      -0.258\n",
       "snow_ice_pellets                       0.0899      0.028      3.203      0.001       0.035       0.145\n",
       "hail                                  -0.5354      0.108     -4.936      0.000      -0.748      -0.323\n",
       "thunder                                0.0238      0.010      2.351      0.019       0.004       0.044\n",
       "tornado_funnel_cloud                   0.5566      0.225      2.474      0.013       0.116       0.998\n",
       "month_Aug                             -1.1168      0.009   -118.892      0.000      -1.135      -1.098\n",
       "month_Dec                              0.2538      0.012     20.335      0.000       0.229       0.278\n",
       "month_Feb                              0.5295      0.009     58.484      0.000       0.512       0.547\n",
       "month_Jan                              0.4700      0.011     44.678      0.000       0.449       0.491\n",
       "month_Jul                             -1.2310      0.009   -133.558      0.000      -1.249      -1.213\n",
       "month_Jun                             -0.9059      0.010    -94.115      0.000      -0.925      -0.887\n",
       "month_Mar                              0.4242      0.008     53.870      0.000       0.409       0.440\n",
       "month_May                             -0.6900      0.009    -77.624      0.000      -0.707      -0.673\n",
       "month_Nov                              0.0943      0.010      9.031      0.000       0.074       0.115\n",
       "month_Oct                             -0.4000      0.010    -39.637      0.000      -0.420      -0.380\n",
       "month_Sep                             -0.8674      0.010    -88.341      0.000      -0.887      -0.848\n",
       "STAT_CAUSE_DESCR_Campfire             -1.1997      0.011   -105.859      0.000      -1.222      -1.177\n",
       "STAT_CAUSE_DESCR_Children             -1.1972      0.012    -98.423      0.000      -1.221      -1.173\n",
       "STAT_CAUSE_DESCR_Debris Burning       -0.4469      0.006    -69.737      0.000      -0.459      -0.434\n",
       "STAT_CAUSE_DESCR_Equipment Use        -0.6216      0.009    -71.074      0.000      -0.639      -0.604\n",
       "STAT_CAUSE_DESCR_Fireworks            -0.9535      0.026    -36.239      0.000      -1.005      -0.902\n",
       "STAT_CAUSE_DESCR_Lightning            -0.6244      0.008    -73.870      0.000      -0.641      -0.608\n",
       "STAT_CAUSE_DESCR_Miscellaneous        -0.8341      0.007   -118.754      0.000      -0.848      -0.820\n",
       "STAT_CAUSE_DESCR_Missing/Undefined    -0.6469      0.008    -76.783      0.000      -0.663      -0.630\n",
       "STAT_CAUSE_DESCR_Powerline            -0.4452      0.024    -18.212      0.000      -0.493      -0.397\n",
       "STAT_CAUSE_DESCR_Railroad             -0.5539      0.015    -36.238      0.000      -0.584      -0.524\n",
       "STAT_CAUSE_DESCR_Smoking              -1.0671      0.013    -81.741      0.000      -1.093      -1.042\n",
       "STAT_CAUSE_DESCR_Structure            -1.1344      0.045    -25.193      0.000      -1.223      -1.046\n",
       "==============================================================================\n",
       "Omnibus:                   113566.214   Durbin-Watson:                   2.003\n",
       "Prob(Omnibus):                  0.000   Jarque-Bera (JB):           193310.366\n",
       "Skew:                           0.749   Prob(JB):                         0.00\n",
       "Kurtosis:                       4.454   Cond. No.                     9.98e+05\n",
       "==============================================================================\n",
       "\n",
       "Warnings:\n",
       "[1] Standard Errors assume that the covariance matrix of the errors is correctly specified.\n",
       "[2] The condition number is large, 9.98e+05. This might indicate that there are\n",
       "strong multicollinearity or other numerical problems.\n",
       "\"\"\""
      ]
     },
     "execution_count": 4,
     "metadata": {},
     "output_type": "execute_result"
    }
   ],
   "source": [
    "#summarize model with log transformation:\n",
    "full_fitted_model.summary()"
   ]
  },
  {
   "cell_type": "markdown",
   "metadata": {},
   "source": [
    "### Step 2: Recursively remove variables with high VIFs"
   ]
  },
  {
   "cell_type": "code",
   "execution_count": 5,
   "metadata": {},
   "outputs": [
    {
     "data": {
      "application/vnd.jupyter.widget-view+json": {
       "model_id": "8e6794b6cce8469385105f279bc2c697",
       "version_major": 2,
       "version_minor": 0
      },
      "text/plain": [
       "HBox(children=(IntProgress(value=0, max=41), HTML(value='')))"
      ]
     },
     "metadata": {},
     "output_type": "display_data"
    },
    {
     "name": "stdout",
     "output_type": "stream",
     "text": [
      "\n",
      "variable dropped: FIRE_YEAR \n",
      "VIF: 42329.43471621072\n"
     ]
    },
    {
     "data": {
      "application/vnd.jupyter.widget-view+json": {
       "model_id": "511636d64ed9433b8a1756b21a1ce8e6",
       "version_major": 2,
       "version_minor": 0
      },
      "text/plain": [
       "HBox(children=(IntProgress(value=0, max=40), HTML(value='')))"
      ]
     },
     "metadata": {},
     "output_type": "display_data"
    },
    {
     "name": "stdout",
     "output_type": "stream",
     "text": [
      "\n",
      "variable dropped: temp \n",
      "VIF: 1033.2605877747646\n"
     ]
    },
    {
     "data": {
      "application/vnd.jupyter.widget-view+json": {
       "model_id": "e4816ec2e0eb4e63b691432b2d7058cd",
       "version_major": 2,
       "version_minor": 0
      },
      "text/plain": [
       "HBox(children=(IntProgress(value=0, max=39), HTML(value='')))"
      ]
     },
     "metadata": {},
     "output_type": "display_data"
    },
    {
     "name": "stdout",
     "output_type": "stream",
     "text": [
      "\n",
      "variable dropped: slp \n",
      "VIF: 180.85849039187406\n"
     ]
    },
    {
     "data": {
      "application/vnd.jupyter.widget-view+json": {
       "model_id": "1136837d52dc46eb9ad91d75b0aa183a",
       "version_major": 2,
       "version_minor": 0
      },
      "text/plain": [
       "HBox(children=(IntProgress(value=0, max=38), HTML(value='')))"
      ]
     },
     "metadata": {},
     "output_type": "display_data"
    },
    {
     "name": "stdout",
     "output_type": "stream",
     "text": [
      "\n",
      "variable dropped: max \n",
      "VIF: 104.54432821360685\n"
     ]
    },
    {
     "data": {
      "application/vnd.jupyter.widget-view+json": {
       "model_id": "842db08faed7437188dfcc13fe82e0f6",
       "version_major": 2,
       "version_minor": 0
      },
      "text/plain": [
       "HBox(children=(IntProgress(value=0, max=37), HTML(value='')))"
      ]
     },
     "metadata": {},
     "output_type": "display_data"
    },
    {
     "name": "stdout",
     "output_type": "stream",
     "text": [
      "\n",
      "variable dropped: min \n",
      "VIF: 53.801157149283235\n"
     ]
    },
    {
     "data": {
      "application/vnd.jupyter.widget-view+json": {
       "model_id": "ae8e1d093f114e6595044c965c77e568",
       "version_major": 2,
       "version_minor": 0
      },
      "text/plain": [
       "HBox(children=(IntProgress(value=0, max=36), HTML(value='')))"
      ]
     },
     "metadata": {},
     "output_type": "display_data"
    },
    {
     "name": "stdout",
     "output_type": "stream",
     "text": [
      "\n",
      "variable dropped: gust \n",
      "VIF: 44.48699801705431\n"
     ]
    },
    {
     "data": {
      "application/vnd.jupyter.widget-view+json": {
       "model_id": "1394f9c72f374a28a0977d69433ff804",
       "version_major": 2,
       "version_minor": 0
      },
      "text/plain": [
       "HBox(children=(IntProgress(value=0, max=35), HTML(value='')))"
      ]
     },
     "metadata": {},
     "output_type": "display_data"
    },
    {
     "name": "stdout",
     "output_type": "stream",
     "text": [
      "\n",
      "variable dropped: mxpsd \n",
      "VIF: 25.364628161278315\n"
     ]
    },
    {
     "data": {
      "application/vnd.jupyter.widget-view+json": {
       "model_id": "3e8373504570489dbce4d215bd64196b",
       "version_major": 2,
       "version_minor": 0
      },
      "text/plain": [
       "HBox(children=(IntProgress(value=0, max=34), HTML(value='')))"
      ]
     },
     "metadata": {},
     "output_type": "display_data"
    },
    {
     "name": "stdout",
     "output_type": "stream",
     "text": [
      "\n",
      "variable dropped: visib \n",
      "VIF: 19.557171258125084\n"
     ]
    },
    {
     "data": {
      "application/vnd.jupyter.widget-view+json": {
       "model_id": "15f97bf76c7c4d0185a8eae59ed57975",
       "version_major": 2,
       "version_minor": 0
      },
      "text/plain": [
       "HBox(children=(IntProgress(value=0, max=33), HTML(value='')))"
      ]
     },
     "metadata": {},
     "output_type": "display_data"
    },
    {
     "name": "stdout",
     "output_type": "stream",
     "text": [
      "\n",
      "variable dropped: dewp \n",
      "VIF: 10.08954415522834\n"
     ]
    },
    {
     "data": {
      "application/vnd.jupyter.widget-view+json": {
       "model_id": "0009e48ad0ea4324825c584316bc98a1",
       "version_major": 2,
       "version_minor": 0
      },
      "text/plain": [
       "HBox(children=(IntProgress(value=0, max=32), HTML(value='')))"
      ]
     },
     "metadata": {},
     "output_type": "display_data"
    },
    {
     "name": "stdout",
     "output_type": "stream",
     "text": [
      "\n"
     ]
    }
   ],
   "source": [
    "#create VIF data frame and assign variable names to `Feature` column\n",
    "vif_data = pd.DataFrame() \n",
    "vif_data['feature'] = x.columns\n",
    "#find VIF for each feature and assign to `VIF` column\n",
    "vif_data['VIF'] = [variance_inflation_factor(x.values, i) \n",
    "                   for i in tqdm(range(len(x.columns)))]\n",
    "#assign variable with the maximum df to the `col` variable\n",
    "col = vif_data[vif_data['VIF'] == vif_data['VIF'].max()]['feature'].values[0]\n",
    "#assign max vif to the `vif` variable\n",
    "vif = vif_data['VIF'].max()\n",
    "#drop the variable only if the vif is greater than 10\n",
    "if vif > 10:\n",
    "    x.drop(columns=col, inplace=True)\n",
    "#print the name of the variable that was dropped\n",
    "print('variable dropped: {}'.format(col),'\\nVIF: {}'.format(vif))\n",
    "\n",
    "#loop through remaining predictor variables and drop each with a VIF higher than 10\n",
    "#begin while loop\n",
    "while vif_data['VIF'].max() > 10:\n",
    "    #create VIF data frame and assign variable names to `Feature` column\n",
    "    vif_data = pd.DataFrame() \n",
    "    vif_data['feature'] = x.columns\n",
    "    #find VIF for each feature and assign to `VIF` column\n",
    "    vif_data['VIF'] = [variance_inflation_factor(x.values, i) \n",
    "                       for i in tqdm(range(len(x.columns)))]\n",
    "    #assign variable with the maximum df to the `col` variable\n",
    "    col = vif_data[vif_data['VIF'] == vif_data['VIF'].max()]['feature'].values[0]\n",
    "    #assign max vif to the `vif` variable\n",
    "    vif = vif_data['VIF'].max()\n",
    "    #drop the variable only if the vif is greater than 10\n",
    "    if vif > 10:\n",
    "        x.drop(columns=col, inplace=True)\n",
    "        #print the name of the variable that was dropped\n",
    "        print('variable dropped: {}'.format(col),'\\nVIF: {}'.format(vif))\n",
    "#trim df variables based of VIF results\n",
    "cols = list(x.columns.values) + ['FIRE_SIZE']\n",
    "df = df[cols]"
   ]
  },
  {
   "cell_type": "markdown",
   "metadata": {},
   "source": [
    "### Step 3: Recursively trim smallest `FIRE_SIZE` to maximize r-squared statistic"
   ]
  },
  {
   "cell_type": "code",
   "execution_count": 6,
   "metadata": {},
   "outputs": [
    {
     "data": {
      "application/vnd.jupyter.widget-view+json": {
       "model_id": "064b702a08ae416f8a10b0a13beccd47",
       "version_major": 2,
       "version_minor": 0
      },
      "text/plain": [
       "HBox(children=(IntProgress(value=0, max=2000), HTML(value='')))"
      ]
     },
     "metadata": {},
     "output_type": "display_data"
    },
    {
     "name": "stdout",
     "output_type": "stream",
     "text": [
      "\n",
      "smallest FIRE_SIZE in model: 79\n",
      "R-squared of model with smallest FIRE_SIZE of 79: 0.1402238577626348\n",
      "R-squared of model without trimmed FIRE_SIZE: 0.07692543144576558\n"
     ]
    }
   ],
   "source": [
    "'''\n",
    "The following code block determines a lower end cutoff for `FIRE_SIZE` that maximizes\n",
    "the r-squared statistic of a trained and tested model. This is due to the large amount\n",
    "of near 0 values that cause too much variability for prediction\n",
    "'''\n",
    "#declare r-squared prediction dataframe for range of cutoffs\n",
    "r2_per_range = pd.DataFrame()\n",
    "#loop through a cutoff of 1 through 2000 to find the optimal number\n",
    "for i in tqdm(range(2000)):\n",
    "    #cutoff lower end of FIRE_SIZE\n",
    "    df2 = df[df['FIRE_SIZE'] > i]\n",
    "    #split data to training and test\n",
    "    x = df2.drop(columns='FIRE_SIZE')\n",
    "    y = df2['FIRE_SIZE']\n",
    "    x_train, x_test, y_train, y_test = train_test_split(x, y, test_size=0.3, random_state=42)\n",
    "    #create multiple regression model with all predictor variables and log transformed y_train\n",
    "    Xc = sm.add_constant(x_train)\n",
    "    linear_regression = sm.OLS(np.log(y_train),Xc)\n",
    "    full_fitted_model = linear_regression.fit()\n",
    "    r_squared = full_fitted_model.rsquared\n",
    "    #create temp dataframe of resulting cutoff and value\n",
    "    temp_df = pd.DataFrame({\"cutoff\":[i],\n",
    "                          \"R-Squared\":[r_squared]})\n",
    "    #append all resulting values to `r2_per_range` dataframe\n",
    "    r2_per_range = r2_per_range.append(temp_df)\n",
    "\n",
    "#assign cutoff with the maximum r-squared to the `cutoff` variable\n",
    "cutoff = r2_per_range[r2_per_range['R-Squared'] == r2_per_range['R-Squared'].max()]['cutoff'].values[0]\n",
    "#trim df2 by the cutoff value\n",
    "df2 = df[df['FIRE_SIZE'] > cutoff]\n",
    "#split trimmed data to training and test set\n",
    "x = df2.drop(columns='FIRE_SIZE')\n",
    "y = df2['FIRE_SIZE']\n",
    "x_train, x_test, y_train, y_test = train_test_split(x, y, test_size=0.3, random_state=42)\n",
    "#create multiple regression model with trimmed FIRE_SIZE at cutoff\n",
    "Xc = sm.add_constant(x_train)\n",
    "linear_regression = sm.OLS(np.log(y_train),Xc)\n",
    "full_fitted_model = linear_regression.fit()\n",
    "#print FIRE_SIZE lower cutoff\n",
    "print('smallest FIRE_SIZE in model: {}'.format(cutoff))\n",
    "#print model r-squared trimmed by cutoff\n",
    "print('R-squared of model with smallest FIRE_SIZE of {}: {}'.format(cutoff, full_fitted_model.rsquared))\n",
    "\n",
    "#split non-trimmed data to training and test set\n",
    "x = df.drop(columns='FIRE_SIZE')\n",
    "y = df['FIRE_SIZE']\n",
    "x_train, x_test, y_train, y_test = train_test_split(x, y, test_size=0.3, random_state=42)\n",
    "#create multiple regression model without trimmed FIRE_SIZE\n",
    "Xc = sm.add_constant(x_train)\n",
    "linear_regression = sm.OLS(np.log(y_train),Xc)\n",
    "full_fitted_model = linear_regression.fit()\n",
    "#print model r-squared not trimmed\n",
    "print('R-squared of model without trimmed FIRE_SIZE: {}'.format(full_fitted_model.rsquared))\n"
   ]
  },
  {
   "cell_type": "markdown",
   "metadata": {},
   "source": [
    "### Step 4: Remove variables with the lowest adjusted r-squared contribution"
   ]
  },
  {
   "cell_type": "code",
   "execution_count": 7,
   "metadata": {},
   "outputs": [
    {
     "data": {
      "application/vnd.jupyter.widget-view+json": {
       "model_id": "d3a961af726c4778b8de6a347e867849",
       "version_major": 2,
       "version_minor": 0
      },
      "text/plain": [
       "HBox(children=(IntProgress(value=0, max=32), HTML(value='')))"
      ]
     },
     "metadata": {},
     "output_type": "display_data"
    },
    {
     "name": "stdout",
     "output_type": "stream",
     "text": [
      "\n"
     ]
    },
    {
     "data": {
      "text/html": [
       "<div>\n",
       "<style scoped>\n",
       "    .dataframe tbody tr th:only-of-type {\n",
       "        vertical-align: middle;\n",
       "    }\n",
       "\n",
       "    .dataframe tbody tr th {\n",
       "        vertical-align: top;\n",
       "    }\n",
       "\n",
       "    .dataframe thead th {\n",
       "        text-align: right;\n",
       "    }\n",
       "</style>\n",
       "<table border=\"1\" class=\"dataframe\">\n",
       "  <thead>\n",
       "    <tr style=\"text-align: right;\">\n",
       "      <th></th>\n",
       "      <th>Variable</th>\n",
       "      <th>R2 Contribution</th>\n",
       "      <th>R2 Percent</th>\n",
       "    </tr>\n",
       "  </thead>\n",
       "  <tbody>\n",
       "    <tr>\n",
       "      <th>26</th>\n",
       "      <td>STAT_CAUSE_DESCR_Miscellaneous</td>\n",
       "      <td>1.371190e-02</td>\n",
       "      <td>1.500028e-01</td>\n",
       "    </tr>\n",
       "    <tr>\n",
       "      <th>20</th>\n",
       "      <td>STAT_CAUSE_DESCR_Campfire</td>\n",
       "      <td>1.281061e-02</td>\n",
       "      <td>1.401431e-01</td>\n",
       "    </tr>\n",
       "    <tr>\n",
       "      <th>21</th>\n",
       "      <td>STAT_CAUSE_DESCR_Children</td>\n",
       "      <td>9.182380e-03</td>\n",
       "      <td>1.004516e-01</td>\n",
       "    </tr>\n",
       "    <tr>\n",
       "      <th>30</th>\n",
       "      <td>STAT_CAUSE_DESCR_Smoking</td>\n",
       "      <td>6.300157e-03</td>\n",
       "      <td>6.892123e-02</td>\n",
       "    </tr>\n",
       "    <tr>\n",
       "      <th>25</th>\n",
       "      <td>STAT_CAUSE_DESCR_Lightning</td>\n",
       "      <td>6.240923e-03</td>\n",
       "      <td>6.827323e-02</td>\n",
       "    </tr>\n",
       "    <tr>\n",
       "      <th>0</th>\n",
       "      <td>distance</td>\n",
       "      <td>6.080234e-03</td>\n",
       "      <td>6.651536e-02</td>\n",
       "    </tr>\n",
       "    <tr>\n",
       "      <th>13</th>\n",
       "      <td>month_Jul</td>\n",
       "      <td>4.716019e-03</td>\n",
       "      <td>5.159138e-02</td>\n",
       "    </tr>\n",
       "    <tr>\n",
       "      <th>23</th>\n",
       "      <td>STAT_CAUSE_DESCR_Equipment Use</td>\n",
       "      <td>4.371573e-03</td>\n",
       "      <td>4.782328e-02</td>\n",
       "    </tr>\n",
       "    <tr>\n",
       "      <th>22</th>\n",
       "      <td>STAT_CAUSE_DESCR_Debris Burning</td>\n",
       "      <td>4.009183e-03</td>\n",
       "      <td>4.385888e-02</td>\n",
       "    </tr>\n",
       "    <tr>\n",
       "      <th>27</th>\n",
       "      <td>STAT_CAUSE_DESCR_Missing/Undefined</td>\n",
       "      <td>3.896928e-03</td>\n",
       "      <td>4.263085e-02</td>\n",
       "    </tr>\n",
       "    <tr>\n",
       "      <th>9</th>\n",
       "      <td>month_Aug</td>\n",
       "      <td>3.092818e-03</td>\n",
       "      <td>3.383421e-02</td>\n",
       "    </tr>\n",
       "    <tr>\n",
       "      <th>4</th>\n",
       "      <td>rain_drizzle</td>\n",
       "      <td>2.016026e-03</td>\n",
       "      <td>2.205453e-02</td>\n",
       "    </tr>\n",
       "    <tr>\n",
       "      <th>16</th>\n",
       "      <td>month_May</td>\n",
       "      <td>1.906797e-03</td>\n",
       "      <td>2.085961e-02</td>\n",
       "    </tr>\n",
       "    <tr>\n",
       "      <th>15</th>\n",
       "      <td>month_Mar</td>\n",
       "      <td>1.878924e-03</td>\n",
       "      <td>2.055469e-02</td>\n",
       "    </tr>\n",
       "    <tr>\n",
       "      <th>19</th>\n",
       "      <td>month_Sep</td>\n",
       "      <td>1.727937e-03</td>\n",
       "      <td>1.890295e-02</td>\n",
       "    </tr>\n",
       "    <tr>\n",
       "      <th>14</th>\n",
       "      <td>month_Jun</td>\n",
       "      <td>1.599724e-03</td>\n",
       "      <td>1.750035e-02</td>\n",
       "    </tr>\n",
       "    <tr>\n",
       "      <th>24</th>\n",
       "      <td>STAT_CAUSE_DESCR_Fireworks</td>\n",
       "      <td>1.536654e-03</td>\n",
       "      <td>1.681039e-02</td>\n",
       "    </tr>\n",
       "    <tr>\n",
       "      <th>1</th>\n",
       "      <td>wdsp</td>\n",
       "      <td>1.411666e-03</td>\n",
       "      <td>1.544307e-02</td>\n",
       "    </tr>\n",
       "    <tr>\n",
       "      <th>11</th>\n",
       "      <td>month_Feb</td>\n",
       "      <td>1.275938e-03</td>\n",
       "      <td>1.395826e-02</td>\n",
       "    </tr>\n",
       "    <tr>\n",
       "      <th>29</th>\n",
       "      <td>STAT_CAUSE_DESCR_Railroad</td>\n",
       "      <td>8.953500e-04</td>\n",
       "      <td>9.794775e-03</td>\n",
       "    </tr>\n",
       "    <tr>\n",
       "      <th>31</th>\n",
       "      <td>STAT_CAUSE_DESCR_Structure</td>\n",
       "      <td>8.142470e-04</td>\n",
       "      <td>8.907540e-03</td>\n",
       "    </tr>\n",
       "    <tr>\n",
       "      <th>18</th>\n",
       "      <td>month_Oct</td>\n",
       "      <td>5.489660e-04</td>\n",
       "      <td>6.005471e-03</td>\n",
       "    </tr>\n",
       "    <tr>\n",
       "      <th>5</th>\n",
       "      <td>snow_ice_pellets</td>\n",
       "      <td>4.797730e-04</td>\n",
       "      <td>5.248527e-03</td>\n",
       "    </tr>\n",
       "    <tr>\n",
       "      <th>12</th>\n",
       "      <td>month_Jan</td>\n",
       "      <td>3.475390e-04</td>\n",
       "      <td>3.801939e-03</td>\n",
       "    </tr>\n",
       "    <tr>\n",
       "      <th>28</th>\n",
       "      <td>STAT_CAUSE_DESCR_Powerline</td>\n",
       "      <td>2.721140e-04</td>\n",
       "      <td>2.976820e-03</td>\n",
       "    </tr>\n",
       "    <tr>\n",
       "      <th>7</th>\n",
       "      <td>thunder</td>\n",
       "      <td>1.629740e-04</td>\n",
       "      <td>1.782871e-03</td>\n",
       "    </tr>\n",
       "    <tr>\n",
       "      <th>2</th>\n",
       "      <td>prcp</td>\n",
       "      <td>1.042060e-04</td>\n",
       "      <td>1.139972e-03</td>\n",
       "    </tr>\n",
       "    <tr>\n",
       "      <th>3</th>\n",
       "      <td>fog</td>\n",
       "      <td>1.780100e-05</td>\n",
       "      <td>1.947359e-04</td>\n",
       "    </tr>\n",
       "    <tr>\n",
       "      <th>17</th>\n",
       "      <td>month_Nov</td>\n",
       "      <td>1.126300e-05</td>\n",
       "      <td>1.232128e-04</td>\n",
       "    </tr>\n",
       "    <tr>\n",
       "      <th>6</th>\n",
       "      <td>hail</td>\n",
       "      <td>4.010000e-06</td>\n",
       "      <td>4.386781e-05</td>\n",
       "    </tr>\n",
       "    <tr>\n",
       "      <th>10</th>\n",
       "      <td>month_Dec</td>\n",
       "      <td>6.400000e-08</td>\n",
       "      <td>7.001347e-07</td>\n",
       "    </tr>\n",
       "    <tr>\n",
       "      <th>8</th>\n",
       "      <td>tornado_funnel_cloud</td>\n",
       "      <td>-1.372600e-05</td>\n",
       "      <td>-1.501570e-04</td>\n",
       "    </tr>\n",
       "  </tbody>\n",
       "</table>\n",
       "</div>"
      ],
      "text/plain": [
       "                              Variable  R2 Contribution    R2 Percent\n",
       "26      STAT_CAUSE_DESCR_Miscellaneous     1.371190e-02  1.500028e-01\n",
       "20           STAT_CAUSE_DESCR_Campfire     1.281061e-02  1.401431e-01\n",
       "21           STAT_CAUSE_DESCR_Children     9.182380e-03  1.004516e-01\n",
       "30            STAT_CAUSE_DESCR_Smoking     6.300157e-03  6.892123e-02\n",
       "25          STAT_CAUSE_DESCR_Lightning     6.240923e-03  6.827323e-02\n",
       "0                             distance     6.080234e-03  6.651536e-02\n",
       "13                           month_Jul     4.716019e-03  5.159138e-02\n",
       "23      STAT_CAUSE_DESCR_Equipment Use     4.371573e-03  4.782328e-02\n",
       "22     STAT_CAUSE_DESCR_Debris Burning     4.009183e-03  4.385888e-02\n",
       "27  STAT_CAUSE_DESCR_Missing/Undefined     3.896928e-03  4.263085e-02\n",
       "9                            month_Aug     3.092818e-03  3.383421e-02\n",
       "4                         rain_drizzle     2.016026e-03  2.205453e-02\n",
       "16                           month_May     1.906797e-03  2.085961e-02\n",
       "15                           month_Mar     1.878924e-03  2.055469e-02\n",
       "19                           month_Sep     1.727937e-03  1.890295e-02\n",
       "14                           month_Jun     1.599724e-03  1.750035e-02\n",
       "24          STAT_CAUSE_DESCR_Fireworks     1.536654e-03  1.681039e-02\n",
       "1                                 wdsp     1.411666e-03  1.544307e-02\n",
       "11                           month_Feb     1.275938e-03  1.395826e-02\n",
       "29           STAT_CAUSE_DESCR_Railroad     8.953500e-04  9.794775e-03\n",
       "31          STAT_CAUSE_DESCR_Structure     8.142470e-04  8.907540e-03\n",
       "18                           month_Oct     5.489660e-04  6.005471e-03\n",
       "5                     snow_ice_pellets     4.797730e-04  5.248527e-03\n",
       "12                           month_Jan     3.475390e-04  3.801939e-03\n",
       "28          STAT_CAUSE_DESCR_Powerline     2.721140e-04  2.976820e-03\n",
       "7                              thunder     1.629740e-04  1.782871e-03\n",
       "2                                 prcp     1.042060e-04  1.139972e-03\n",
       "3                                  fog     1.780100e-05  1.947359e-04\n",
       "17                           month_Nov     1.126300e-05  1.232128e-04\n",
       "6                                 hail     4.010000e-06  4.386781e-05\n",
       "10                           month_Dec     6.400000e-08  7.001347e-07\n",
       "8                 tornado_funnel_cloud    -1.372600e-05 -1.501570e-04"
      ]
     },
     "execution_count": 7,
     "metadata": {},
     "output_type": "execute_result"
    }
   ],
   "source": [
    "#variable reduction by Adjusted R2\n",
    "#adjusted R2 function definition\n",
    "def adj_rsquared(x_train, y_train, x_test):\n",
    "    '''\n",
    "    This function predicts the R2 statistic for a training data set predicitons compared\n",
    "    to a test dataset.  The R2 Statistic is then adjusted for the number of input variables in \n",
    "    the model by the formula `1-(1-r2)*(n-1)/(n-p-1)` where n is the number of observations and \n",
    "    p is the number of independent variables (levels)  \n",
    "    \n",
    "    The single output variable is the adjusted R squared statistic\n",
    "    '''\n",
    "    reg = LinearRegression()\n",
    "    y_pred = reg.fit(x_train, np.log(y_train)).predict(x_test)\n",
    "    r2 = r2_score(np.log(y_test),y_pred)\n",
    "    n = len(x_test)\n",
    "    p = len(x_test.columns)\n",
    "    adj_r2 = 1-(1-r2)*(n-1)/(n-p-1)\n",
    "    return adj_r2\n",
    "\n",
    "#Loop through all predictor variables and find adjusted r2 contributions for each variable\n",
    "#create statistic dataframe\n",
    "r2_per_var = pd.DataFrame()\n",
    "#loop through all vars in training dataset\n",
    "for var in tqdm(x_train.columns):\n",
    "    #create subset of vars not including variable in question\n",
    "    selection = [i for i in x_train.columns if i!=var]\n",
    "    #subtract adjusted R2 from model without variable\n",
    "    diff = adj_rsquared(x_train, y_train, x_test) - adj_rsquared(x_train[selection], y_train, x_test[selection])\n",
    "    #create temp dataframe of resulting variable and value\n",
    "    temp_df = pd.DataFrame({\"Variable\":[var],\n",
    "                          \"R2 Contribution\":[diff]})\n",
    "    #append all resulting values to `r2_per_var` dataframe\n",
    "    r2_per_var = r2_per_var.append(temp_df)\n",
    "#format resulting dataframe\n",
    "r2_per_var[\"R2 Contribution\"] = r2_per_var[\"R2 Contribution\"].apply('{0:.9f}'.format)\n",
    "r2_per_var.reset_index(inplace=True, drop=True)\n",
    "r2_per_var['R2 Contribution'] = r2_per_var['R2 Contribution'].astype('float')\n",
    "#create percent contribution column\n",
    "r2_per_var[\"R2 Percent\"] = r2_per_var[\"R2 Contribution\"]/r2_per_var[\"R2 Contribution\"].sum()\n",
    "#display R2 Percent results\n",
    "r2_per_var.sort_values(by='R2 Percent', ascending=False)"
   ]
  },
  {
   "cell_type": "code",
   "execution_count": 8,
   "metadata": {
    "scrolled": false
   },
   "outputs": [
    {
     "name": "stderr",
     "output_type": "stream",
     "text": [
      "C:\\Users\\Jeffrey\\Anaconda3\\lib\\site-packages\\numpy\\core\\fromnumeric.py:2389: FutureWarning: Method .ptp is deprecated and will be removed in a future version. Use numpy.ptp instead.\n",
      "  return ptp(axis=axis, out=out, **kwargs)\n"
     ]
    },
    {
     "data": {
      "text/html": [
       "<table class=\"simpletable\">\n",
       "<caption>OLS Regression Results</caption>\n",
       "<tr>\n",
       "  <th>Dep. Variable:</th>        <td>FIRE_SIZE</td>    <th>  R-squared:         </th>  <td>   0.076</td>  \n",
       "</tr>\n",
       "<tr>\n",
       "  <th>Model:</th>                   <td>OLS</td>       <th>  Adj. R-squared:    </th>  <td>   0.076</td>  \n",
       "</tr>\n",
       "<tr>\n",
       "  <th>Method:</th>             <td>Least Squares</td>  <th>  F-statistic:       </th>  <td>   3805.</td>  \n",
       "</tr>\n",
       "<tr>\n",
       "  <th>Date:</th>             <td>Sun, 03 Jan 2021</td> <th>  Prob (F-statistic):</th>   <td>  0.00</td>   \n",
       "</tr>\n",
       "<tr>\n",
       "  <th>Time:</th>                 <td>17:56:33</td>     <th>  Log-Likelihood:    </th> <td>-2.2816e+06</td>\n",
       "</tr>\n",
       "<tr>\n",
       "  <th>No. Observations:</th>      <td>1064293</td>     <th>  AIC:               </th>  <td>4.563e+06</td> \n",
       "</tr>\n",
       "<tr>\n",
       "  <th>Df Residuals:</th>          <td>1064269</td>     <th>  BIC:               </th>  <td>4.564e+06</td> \n",
       "</tr>\n",
       "<tr>\n",
       "  <th>Df Model:</th>              <td>    23</td>      <th>                     </th>      <td> </td>     \n",
       "</tr>\n",
       "<tr>\n",
       "  <th>Covariance Type:</th>      <td>nonrobust</td>    <th>                     </th>      <td> </td>     \n",
       "</tr>\n",
       "</table>\n",
       "<table class=\"simpletable\">\n",
       "<tr>\n",
       "                   <td></td>                     <th>coef</th>     <th>std err</th>      <th>t</th>      <th>P>|t|</th>  <th>[0.025</th>    <th>0.975]</th>  \n",
       "</tr>\n",
       "<tr>\n",
       "  <th>const</th>                              <td>    0.2678</td> <td>    0.008</td> <td>   33.014</td> <td> 0.000</td> <td>    0.252</td> <td>    0.284</td>\n",
       "</tr>\n",
       "<tr>\n",
       "  <th>distance</th>                           <td>    0.0087</td> <td> 9.95e-05</td> <td>   87.287</td> <td> 0.000</td> <td>    0.008</td> <td>    0.009</td>\n",
       "</tr>\n",
       "<tr>\n",
       "  <th>wdsp</th>                               <td>    0.0314</td> <td>    0.001</td> <td>   39.620</td> <td> 0.000</td> <td>    0.030</td> <td>    0.033</td>\n",
       "</tr>\n",
       "<tr>\n",
       "  <th>rain_drizzle</th>                       <td>   -0.3005</td> <td>    0.006</td> <td>  -49.492</td> <td> 0.000</td> <td>   -0.312</td> <td>   -0.289</td>\n",
       "</tr>\n",
       "<tr>\n",
       "  <th>snow_ice_pellets</th>                   <td>   -0.6614</td> <td>    0.028</td> <td>  -23.714</td> <td> 0.000</td> <td>   -0.716</td> <td>   -0.607</td>\n",
       "</tr>\n",
       "<tr>\n",
       "  <th>month_Aug</th>                          <td>   -0.5717</td> <td>    0.008</td> <td>  -74.063</td> <td> 0.000</td> <td>   -0.587</td> <td>   -0.557</td>\n",
       "</tr>\n",
       "<tr>\n",
       "  <th>month_Feb</th>                          <td>    0.3299</td> <td>    0.008</td> <td>   41.034</td> <td> 0.000</td> <td>    0.314</td> <td>    0.346</td>\n",
       "</tr>\n",
       "<tr>\n",
       "  <th>month_Jul</th>                          <td>   -0.6670</td> <td>    0.007</td> <td>  -89.518</td> <td> 0.000</td> <td>   -0.682</td> <td>   -0.652</td>\n",
       "</tr>\n",
       "<tr>\n",
       "  <th>month_Jun</th>                          <td>   -0.4296</td> <td>    0.008</td> <td>  -52.507</td> <td> 0.000</td> <td>   -0.446</td> <td>   -0.414</td>\n",
       "</tr>\n",
       "<tr>\n",
       "  <th>month_Mar</th>                          <td>    0.3324</td> <td>    0.007</td> <td>   48.790</td> <td> 0.000</td> <td>    0.319</td> <td>    0.346</td>\n",
       "</tr>\n",
       "<tr>\n",
       "  <th>month_May</th>                          <td>   -0.4704</td> <td>    0.008</td> <td>  -59.853</td> <td> 0.000</td> <td>   -0.486</td> <td>   -0.455</td>\n",
       "</tr>\n",
       "<tr>\n",
       "  <th>month_Oct</th>                          <td>   -0.2916</td> <td>    0.009</td> <td>  -31.553</td> <td> 0.000</td> <td>   -0.310</td> <td>   -0.273</td>\n",
       "</tr>\n",
       "<tr>\n",
       "  <th>month_Sep</th>                          <td>   -0.4631</td> <td>    0.009</td> <td>  -54.087</td> <td> 0.000</td> <td>   -0.480</td> <td>   -0.446</td>\n",
       "</tr>\n",
       "<tr>\n",
       "  <th>STAT_CAUSE_DESCR_Campfire</th>          <td>   -1.3339</td> <td>    0.011</td> <td> -117.506</td> <td> 0.000</td> <td>   -1.356</td> <td>   -1.312</td>\n",
       "</tr>\n",
       "<tr>\n",
       "  <th>STAT_CAUSE_DESCR_Children</th>          <td>   -1.2234</td> <td>    0.012</td> <td>  -99.722</td> <td> 0.000</td> <td>   -1.247</td> <td>   -1.199</td>\n",
       "</tr>\n",
       "<tr>\n",
       "  <th>STAT_CAUSE_DESCR_Debris Burning</th>    <td>   -0.4083</td> <td>    0.006</td> <td>  -63.906</td> <td> 0.000</td> <td>   -0.421</td> <td>   -0.396</td>\n",
       "</tr>\n",
       "<tr>\n",
       "  <th>STAT_CAUSE_DESCR_Equipment Use</th>     <td>   -0.5756</td> <td>    0.009</td> <td>  -65.631</td> <td> 0.000</td> <td>   -0.593</td> <td>   -0.558</td>\n",
       "</tr>\n",
       "<tr>\n",
       "  <th>STAT_CAUSE_DESCR_Fireworks</th>         <td>   -1.0466</td> <td>    0.027</td> <td>  -39.388</td> <td> 0.000</td> <td>   -1.099</td> <td>   -0.995</td>\n",
       "</tr>\n",
       "<tr>\n",
       "  <th>STAT_CAUSE_DESCR_Lightning</th>         <td>   -0.6431</td> <td>    0.008</td> <td>  -78.080</td> <td> 0.000</td> <td>   -0.659</td> <td>   -0.627</td>\n",
       "</tr>\n",
       "<tr>\n",
       "  <th>STAT_CAUSE_DESCR_Miscellaneous</th>     <td>   -0.8492</td> <td>    0.007</td> <td> -121.800</td> <td> 0.000</td> <td>   -0.863</td> <td>   -0.836</td>\n",
       "</tr>\n",
       "<tr>\n",
       "  <th>STAT_CAUSE_DESCR_Missing/Undefined</th> <td>   -0.5206</td> <td>    0.008</td> <td>  -62.088</td> <td> 0.000</td> <td>   -0.537</td> <td>   -0.504</td>\n",
       "</tr>\n",
       "<tr>\n",
       "  <th>STAT_CAUSE_DESCR_Railroad</th>          <td>   -0.4156</td> <td>    0.015</td> <td>  -26.975</td> <td> 0.000</td> <td>   -0.446</td> <td>   -0.385</td>\n",
       "</tr>\n",
       "<tr>\n",
       "  <th>STAT_CAUSE_DESCR_Smoking</th>           <td>   -1.0722</td> <td>    0.013</td> <td>  -81.374</td> <td> 0.000</td> <td>   -1.098</td> <td>   -1.046</td>\n",
       "</tr>\n",
       "<tr>\n",
       "  <th>STAT_CAUSE_DESCR_Structure</th>         <td>   -1.3149</td> <td>    0.046</td> <td>  -28.844</td> <td> 0.000</td> <td>   -1.404</td> <td>   -1.226</td>\n",
       "</tr>\n",
       "</table>\n",
       "<table class=\"simpletable\">\n",
       "<tr>\n",
       "  <th>Omnibus:</th>       <td>106361.960</td> <th>  Durbin-Watson:     </th>  <td>   2.003</td> \n",
       "</tr>\n",
       "<tr>\n",
       "  <th>Prob(Omnibus):</th>   <td> 0.000</td>   <th>  Jarque-Bera (JB):  </th> <td>170351.803</td>\n",
       "</tr>\n",
       "<tr>\n",
       "  <th>Skew:</th>            <td> 0.734</td>   <th>  Prob(JB):          </th>  <td>    0.00</td> \n",
       "</tr>\n",
       "<tr>\n",
       "  <th>Kurtosis:</th>        <td> 4.300</td>   <th>  Cond. No.          </th>  <td>    927.</td> \n",
       "</tr>\n",
       "</table><br/><br/>Warnings:<br/>[1] Standard Errors assume that the covariance matrix of the errors is correctly specified."
      ],
      "text/plain": [
       "<class 'statsmodels.iolib.summary.Summary'>\n",
       "\"\"\"\n",
       "                            OLS Regression Results                            \n",
       "==============================================================================\n",
       "Dep. Variable:              FIRE_SIZE   R-squared:                       0.076\n",
       "Model:                            OLS   Adj. R-squared:                  0.076\n",
       "Method:                 Least Squares   F-statistic:                     3805.\n",
       "Date:                Sun, 03 Jan 2021   Prob (F-statistic):               0.00\n",
       "Time:                        17:56:33   Log-Likelihood:            -2.2816e+06\n",
       "No. Observations:             1064293   AIC:                         4.563e+06\n",
       "Df Residuals:                 1064269   BIC:                         4.564e+06\n",
       "Df Model:                          23                                         \n",
       "Covariance Type:            nonrobust                                         \n",
       "======================================================================================================\n",
       "                                         coef    std err          t      P>|t|      [0.025      0.975]\n",
       "------------------------------------------------------------------------------------------------------\n",
       "const                                  0.2678      0.008     33.014      0.000       0.252       0.284\n",
       "distance                               0.0087   9.95e-05     87.287      0.000       0.008       0.009\n",
       "wdsp                                   0.0314      0.001     39.620      0.000       0.030       0.033\n",
       "rain_drizzle                          -0.3005      0.006    -49.492      0.000      -0.312      -0.289\n",
       "snow_ice_pellets                      -0.6614      0.028    -23.714      0.000      -0.716      -0.607\n",
       "month_Aug                             -0.5717      0.008    -74.063      0.000      -0.587      -0.557\n",
       "month_Feb                              0.3299      0.008     41.034      0.000       0.314       0.346\n",
       "month_Jul                             -0.6670      0.007    -89.518      0.000      -0.682      -0.652\n",
       "month_Jun                             -0.4296      0.008    -52.507      0.000      -0.446      -0.414\n",
       "month_Mar                              0.3324      0.007     48.790      0.000       0.319       0.346\n",
       "month_May                             -0.4704      0.008    -59.853      0.000      -0.486      -0.455\n",
       "month_Oct                             -0.2916      0.009    -31.553      0.000      -0.310      -0.273\n",
       "month_Sep                             -0.4631      0.009    -54.087      0.000      -0.480      -0.446\n",
       "STAT_CAUSE_DESCR_Campfire             -1.3339      0.011   -117.506      0.000      -1.356      -1.312\n",
       "STAT_CAUSE_DESCR_Children             -1.2234      0.012    -99.722      0.000      -1.247      -1.199\n",
       "STAT_CAUSE_DESCR_Debris Burning       -0.4083      0.006    -63.906      0.000      -0.421      -0.396\n",
       "STAT_CAUSE_DESCR_Equipment Use        -0.5756      0.009    -65.631      0.000      -0.593      -0.558\n",
       "STAT_CAUSE_DESCR_Fireworks            -1.0466      0.027    -39.388      0.000      -1.099      -0.995\n",
       "STAT_CAUSE_DESCR_Lightning            -0.6431      0.008    -78.080      0.000      -0.659      -0.627\n",
       "STAT_CAUSE_DESCR_Miscellaneous        -0.8492      0.007   -121.800      0.000      -0.863      -0.836\n",
       "STAT_CAUSE_DESCR_Missing/Undefined    -0.5206      0.008    -62.088      0.000      -0.537      -0.504\n",
       "STAT_CAUSE_DESCR_Railroad             -0.4156      0.015    -26.975      0.000      -0.446      -0.385\n",
       "STAT_CAUSE_DESCR_Smoking              -1.0722      0.013    -81.374      0.000      -1.098      -1.046\n",
       "STAT_CAUSE_DESCR_Structure            -1.3149      0.046    -28.844      0.000      -1.404      -1.226\n",
       "==============================================================================\n",
       "Omnibus:                   106361.960   Durbin-Watson:                   2.003\n",
       "Prob(Omnibus):                  0.000   Jarque-Bera (JB):           170351.803\n",
       "Skew:                           0.734   Prob(JB):                         0.00\n",
       "Kurtosis:                       4.300   Cond. No.                         927.\n",
       "==============================================================================\n",
       "\n",
       "Warnings:\n",
       "[1] Standard Errors assume that the covariance matrix of the errors is correctly specified.\n",
       "\"\"\""
      ]
     },
     "execution_count": 8,
     "metadata": {},
     "output_type": "execute_result"
    }
   ],
   "source": [
    "#trim `x_train` and `x_test` by variables with a positive adjusted r-squared contribution\n",
    "vars_to_keep = r2_per_var[r2_per_var['R2 Percent'] > 0.005]['Variable'].values.tolist()\n",
    "x_train = x_train[vars_to_keep]\n",
    "x_test = x_test[vars_to_keep]\n",
    "\n",
    "#sumarize reduced model\n",
    "Xc = sm.add_constant(x_train)\n",
    "linear_regression = sm.OLS(np.log(y_train),Xc)\n",
    "reduced_fitted_model = linear_regression.fit()\n",
    "reduced_fitted_model.summary()"
   ]
  },
  {
   "cell_type": "markdown",
   "metadata": {},
   "source": [
    "### Step 5: Compare residuals of full and reduced models"
   ]
  },
  {
   "cell_type": "code",
   "execution_count": 9,
   "metadata": {},
   "outputs": [
    {
     "data": {
      "image/png": "[encoded data removed]",
      "text/plain": [
       "<Figure size 432x288 with 2 Axes>"
      ]
     },
     "metadata": {
      "needs_background": "light"
     },
     "output_type": "display_data"
    },
    {
     "data": {
      "image/png": "[encoded data removed]",
      "text/plain": [
       "<Figure size 432x288 with 2 Axes>"
      ]
     },
     "metadata": {
      "needs_background": "light"
     },
     "output_type": "display_data"
    },
    {
     "data": {
      "text/plain": [
       "<matplotlib.axes._subplots.AxesSubplot at 0x1cb188c2d30>"
      ]
     },
     "execution_count": 9,
     "metadata": {},
     "output_type": "execute_result"
    }
   ],
   "source": [
    "#visualize full model predicted residuals\n",
    "model = LinearRegression()\n",
    "visualizer = ResidualsPlot(model, hist=False, qqplot=True, title='Full Model Residuals vs. Predicted Values')\n",
    "visualizer.fit(x_train_full, np.log(y_train_full))\n",
    "visualizer.score(x_test_full, np.log(y_test_full))\n",
    "visualizer.show()\n",
    "\n",
    "#visualize reduced model predicted residuals\n",
    "model = LinearRegression()\n",
    "visualizer = ResidualsPlot(model, hist=False, qqplot=True, title='Reduced Model Residuals vs. Predicted Values')\n",
    "visualizer.fit(x_train, np.log(y_train))\n",
    "visualizer.score(x_test, np.log(y_test))\n",
    "visualizer.show()"
   ]
  },
  {
   "cell_type": "code",
   "execution_count": null,
   "metadata": {},
   "outputs": [],
   "source": []
  }
 ],
 "metadata": {
  "kernelspec": {
   "display_name": "Python 3",
   "language": "python",
   "name": "python3"
  },
  "language_info": {
   "codemirror_mode": {
    "name": "ipython",
    "version": 3
   },
   "file_extension": ".py",
   "mimetype": "text/x-python",
   "name": "python",
   "nbconvert_exporter": "python",
   "pygments_lexer": "ipython3",
   "version": "3.7.3"
  }
 },
 "nbformat": 4,
 "nbformat_minor": 2
}
