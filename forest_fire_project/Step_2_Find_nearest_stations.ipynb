{
 "cells": [
  {
   "cell_type": "code",
   "execution_count": 1,
   "metadata": {},
   "outputs": [
    {
     "name": "stdout",
     "output_type": "stream",
     "text": [
      "INFO: Pandarallel will run on 8 workers.\n",
      "INFO: Pandarallel will use Memory file system to transfer data between the main process and workers.\n"
     ]
    },
    {
     "name": "stderr",
     "output_type": "stream",
     "text": [
      "/home/jva/anaconda3/lib/python3.8/site-packages/tqdm/std.py:668: FutureWarning: The Panel class is removed from pandas. Accessing it from the top-level namespace will also be removed in the next version\n",
      "  from pandas import Panel\n"
     ]
    }
   ],
   "source": [
    "#import packages\n",
    "import pandas as pd\n",
    "import numpy as np\n",
    "import sqlite3\n",
    "from tqdm.auto import tqdm\n",
    "from tqdm import tqdm_notebook\n",
    "#use tqdm in pandas lambda loops\n",
    "tqdm.pandas()\n",
    "#parallel processing\n",
    "from pandarallel import pandarallel\n",
    "pandarallel.initialize(progress_bar=True)"
   ]
  },
  {
   "cell_type": "markdown",
   "metadata": {},
   "source": [
    "# get station data"
   ]
  },
  {
   "cell_type": "code",
   "execution_count": 2,
   "metadata": {},
   "outputs": [],
   "source": [
    "#get weather station dataframe\n",
    "df_stations = pd.read_csv('weatherdata/stations.csv')\n",
    "\n",
    "#convert wban and usaf columns to strings and create concatenated reference columns from two values\n",
    "df_stations['usaf']  = df_stations['usaf'].astype('str')\n",
    "df_stations['wban']  = df_stations['wban'].astype('str')\n",
    "df_stations['ref_key'] = df_stations['usaf'] + df_stations['wban']\n",
    "\n",
    "#narrow dataset\n",
    "df_stations = df_stations[['ref_key', 'lat', 'lon']]"
   ]
  },
  {
   "cell_type": "markdown",
   "metadata": {},
   "source": [
    "# get fire data"
   ]
  },
  {
   "cell_type": "code",
   "execution_count": 3,
   "metadata": {},
   "outputs": [],
   "source": [
    "#create dataframe by querying Fires table from *.sqlite database\n",
    "connection = sqlite3.connect('fire_database.sqlite')\n",
    "firedf = pd.read_sql_query('''SELECT FIRE_YEAR,\n",
    "                                     DISCOVERY_DOY,\n",
    "                                     FIRE_SIZE,\n",
    "                                     LATITUDE,\n",
    "                                     LONGITUDE,\n",
    "                                     STAT_CAUSE_DESCR,\n",
    "                                     STATE\n",
    "                              FROM Fires''', connection)\n",
    "\n",
    "#formats day of year and year to standard yyyy-mm-dd date format\n",
    "firedf['FORMATTED_DATE'] = pd.to_datetime(firedf['FIRE_YEAR'] * 1000 + firedf['DISCOVERY_DOY'], format='%Y%j')"
   ]
  },
  {
   "cell_type": "markdown",
   "metadata": {},
   "source": [
    "# Define Functions for finding closest lat / lon"
   ]
  },
  {
   "cell_type": "code",
   "execution_count": 4,
   "metadata": {},
   "outputs": [],
   "source": [
    "#use Haversine Distance fromula to find distance from fires to stations\n",
    "from math import radians, cos, sin, asin, sqrt\n",
    "def dist(lat1, long1, lat2, long2):\n",
    "    # convert decimal degrees to radians \n",
    "    lat1, long1, lat2, long2 = map(radians, [lat1, long1, lat2, long2])\n",
    "    # haversine formula \n",
    "    dlon = long2 - long1 \n",
    "    dlat = lat2 - lat1 \n",
    "    a = sin(dlat/2)**2 + cos(lat1) * cos(lat2) * sin(dlon/2)**2\n",
    "    c = 2 * asin(sqrt(a)) \n",
    "    # Radius of earth in kilometers is 6371\n",
    "    km = 6371* c\n",
    "    return km\n",
    "\n",
    "#to match nearest stations to fires\n",
    "def find_nearest(lat, long):\n",
    "    distances = weatherwith_stations.apply(\n",
    "        lambda row: dist(lat, long, row['lat'], row['lon']), \n",
    "        axis=1)\n",
    "    return (weatherwith_stations.loc[distances.idxmin(), 'ref_key'], distances.min())"
   ]
  },
  {
   "cell_type": "markdown",
   "metadata": {},
   "source": [
    "# import csv for each year and loop through each year and match fire observation based on nearest station latitude and longitude "
   ]
  },
  {
   "cell_type": "code",
   "execution_count": 5,
   "metadata": {},
   "outputs": [
    {
     "name": "stderr",
     "output_type": "stream",
     "text": [
      "<ipython-input-5-fa00e9f43bfa>:4: TqdmDeprecationWarning: This function will be removed in tqdm==5.0.0\n",
      "Please use `tqdm.notebook.tqdm` instead of `tqdm.tqdm_notebook`\n",
      "  for year in tqdm_notebook(range(1992, 2016)):\n"
     ]
    },
    {
     "data": {
      "application/vnd.jupyter.widget-view+json": {
       "model_id": "32c9c2f84de6482ba0b8fd9adb209144",
       "version_major": 2,
       "version_minor": 0
      },
      "text/plain": [
       "HBox(children=(FloatProgress(value=0.0, max=24.0), HTML(value='')))"
      ]
     },
     "metadata": {},
     "output_type": "display_data"
    },
    {
     "name": "stderr",
     "output_type": "stream",
     "text": [
      "/home/jva/anaconda3/lib/python3.8/site-packages/IPython/core/interactiveshell.py:3071: DtypeWarning: Columns (22,24) have mixed types.Specify dtype option on import or set low_memory=False.\n",
      "  has_raised = await self.run_ast_nodes(code_ast.body, cell_name,\n"
     ]
    },
    {
     "data": {
      "application/vnd.jupyter.widget-view+json": {
       "model_id": "64e365ba4a864bad92866754fa5c4d3e",
       "version_major": 2,
       "version_minor": 0
      },
      "text/plain": [
       "VBox(children=(HBox(children=(IntProgress(value=0, description='0.00%', max=8497), Label(value='0 / 8497'))), …"
      ]
     },
     "metadata": {},
     "output_type": "display_data"
    },
    {
     "name": "stderr",
     "output_type": "stream",
     "text": [
      "<ipython-input-5-fa00e9f43bfa>:28: SettingWithCopyWarning: \n",
      "A value is trying to be set on a copy of a slice from a DataFrame.\n",
      "Try using .loc[row_indexer,col_indexer] = value instead\n",
      "\n",
      "See the caveats in the documentation: https://pandas.pydata.org/pandas-docs/stable/user_guide/indexing.html#returning-a-view-versus-a-copy\n",
      "  firedf2['ref_key'] = firedf2.parallel_apply(\n",
      "/home/jva/anaconda3/lib/python3.8/site-packages/pandas/core/frame.py:2963: SettingWithCopyWarning: \n",
      "A value is trying to be set on a copy of a slice from a DataFrame.\n",
      "Try using .loc[row_indexer,col_indexer] = value instead\n",
      "\n",
      "See the caveats in the documentation: https://pandas.pydata.org/pandas-docs/stable/user_guide/indexing.html#returning-a-view-versus-a-copy\n",
      "  self[k1] = value[k2]\n"
     ]
    },
    {
     "data": {
      "application/vnd.jupyter.widget-view+json": {
       "model_id": "c732fe214dc44c209bed36a6d82dc1ea",
       "version_major": 2,
       "version_minor": 0
      },
      "text/plain": [
       "VBox(children=(HBox(children=(IntProgress(value=0, description='0.00%', max=7749), Label(value='0 / 7749'))), …"
      ]
     },
     "metadata": {},
     "output_type": "display_data"
    },
    {
     "data": {
      "application/vnd.jupyter.widget-view+json": {
       "model_id": "e8071aec234a4598846cf389c9c18502",
       "version_major": 2,
       "version_minor": 0
      },
      "text/plain": [
       "VBox(children=(HBox(children=(IntProgress(value=0, description='0.00%', max=9495), Label(value='0 / 9495'))), …"
      ]
     },
     "metadata": {},
     "output_type": "display_data"
    },
    {
     "data": {
      "application/vnd.jupyter.widget-view+json": {
       "model_id": "b4d47fec02684a0a81e61a35acb60395",
       "version_major": 2,
       "version_minor": 0
      },
      "text/plain": [
       "VBox(children=(HBox(children=(IntProgress(value=0, description='0.00%', max=8934), Label(value='0 / 8934'))), …"
      ]
     },
     "metadata": {},
     "output_type": "display_data"
    },
    {
     "name": "stderr",
     "output_type": "stream",
     "text": [
      "/home/jva/anaconda3/lib/python3.8/site-packages/IPython/core/interactiveshell.py:3071: DtypeWarning: Columns (22) have mixed types.Specify dtype option on import or set low_memory=False.\n",
      "  has_raised = await self.run_ast_nodes(code_ast.body, cell_name,\n"
     ]
    },
    {
     "data": {
      "application/vnd.jupyter.widget-view+json": {
       "model_id": "a9872d87d3974ed2b0b1e4895e330f0f",
       "version_major": 2,
       "version_minor": 0
      },
      "text/plain": [
       "VBox(children=(HBox(children=(IntProgress(value=0, description='0.00%', max=9447), Label(value='0 / 9447'))), …"
      ]
     },
     "metadata": {},
     "output_type": "display_data"
    },
    {
     "data": {
      "application/vnd.jupyter.widget-view+json": {
       "model_id": "80cee84072e04743b01eb22255b7aee0",
       "version_major": 2,
       "version_minor": 0
      },
      "text/plain": [
       "VBox(children=(HBox(children=(IntProgress(value=0, description='0.00%', max=7682), Label(value='0 / 7682'))), …"
      ]
     },
     "metadata": {},
     "output_type": "display_data"
    },
    {
     "data": {
      "application/vnd.jupyter.widget-view+json": {
       "model_id": "7081c6068fd24053ba8c98e31c85fbbf",
       "version_major": 2,
       "version_minor": 0
      },
      "text/plain": [
       "VBox(children=(HBox(children=(IntProgress(value=0, description='0.00%', max=8547), Label(value='0 / 8547'))), …"
      ]
     },
     "metadata": {},
     "output_type": "display_data"
    },
    {
     "data": {
      "application/vnd.jupyter.widget-view+json": {
       "model_id": "9ebd060d8a85449a96ba6abff4d997d9",
       "version_major": 2,
       "version_minor": 0
      },
      "text/plain": [
       "VBox(children=(HBox(children=(IntProgress(value=0, description='0.00%', max=11171), Label(value='0 / 11171')))…"
      ]
     },
     "metadata": {},
     "output_type": "display_data"
    },
    {
     "data": {
      "application/vnd.jupyter.widget-view+json": {
       "model_id": "b4a072f5b13e421795831a91d0a7a09c",
       "version_major": 2,
       "version_minor": 0
      },
      "text/plain": [
       "VBox(children=(HBox(children=(IntProgress(value=0, description='0.00%', max=12052), Label(value='0 / 12052')))…"
      ]
     },
     "metadata": {},
     "output_type": "display_data"
    },
    {
     "data": {
      "application/vnd.jupyter.widget-view+json": {
       "model_id": "628b540d58224e73a47b2af038067221",
       "version_major": 2,
       "version_minor": 0
      },
      "text/plain": [
       "VBox(children=(HBox(children=(IntProgress(value=0, description='0.00%', max=10824), Label(value='0 / 10824')))…"
      ]
     },
     "metadata": {},
     "output_type": "display_data"
    },
    {
     "data": {
      "application/vnd.jupyter.widget-view+json": {
       "model_id": "c6662c6622324ae98810481fb5cb2515",
       "version_major": 2,
       "version_minor": 0
      },
      "text/plain": [
       "VBox(children=(HBox(children=(IntProgress(value=0, description='0.00%', max=9457), Label(value='0 / 9457'))), …"
      ]
     },
     "metadata": {},
     "output_type": "display_data"
    },
    {
     "data": {
      "application/vnd.jupyter.widget-view+json": {
       "model_id": "231ab68d90fb469baff8222996d86e6e",
       "version_major": 2,
       "version_minor": 0
      },
      "text/plain": [
       "VBox(children=(HBox(children=(IntProgress(value=0, description='0.00%', max=8533), Label(value='0 / 8533'))), …"
      ]
     },
     "metadata": {},
     "output_type": "display_data"
    },
    {
     "data": {
      "application/vnd.jupyter.widget-view+json": {
       "model_id": "0a05077bb8a44a6db9f9066fc1d226b2",
       "version_major": 2,
       "version_minor": 0
      },
      "text/plain": [
       "VBox(children=(HBox(children=(IntProgress(value=0, description='0.00%', max=8660), Label(value='0 / 8660'))), …"
      ]
     },
     "metadata": {},
     "output_type": "display_data"
    },
    {
     "name": "stderr",
     "output_type": "stream",
     "text": [
      "/home/jva/anaconda3/lib/python3.8/site-packages/IPython/core/interactiveshell.py:3071: DtypeWarning: Columns (20) have mixed types.Specify dtype option on import or set low_memory=False.\n",
      "  has_raised = await self.run_ast_nodes(code_ast.body, cell_name,\n"
     ]
    },
    {
     "data": {
      "application/vnd.jupyter.widget-view+json": {
       "model_id": "afa540d04fdf45ff8f3ed6391d92df3b",
       "version_major": 2,
       "version_minor": 0
      },
      "text/plain": [
       "VBox(children=(HBox(children=(IntProgress(value=0, description='0.00%', max=11076), Label(value='0 / 11076')))…"
      ]
     },
     "metadata": {},
     "output_type": "display_data"
    },
    {
     "data": {
      "application/vnd.jupyter.widget-view+json": {
       "model_id": "6e2dfde43f21459fa09dee78ba55fd31",
       "version_major": 2,
       "version_minor": 0
      },
      "text/plain": [
       "VBox(children=(HBox(children=(IntProgress(value=0, description='0.00%', max=14251), Label(value='0 / 14251')))…"
      ]
     },
     "metadata": {},
     "output_type": "display_data"
    },
    {
     "data": {
      "application/vnd.jupyter.widget-view+json": {
       "model_id": "e23acf1c580048e384c3e6110b69be20",
       "version_major": 2,
       "version_minor": 0
      },
      "text/plain": [
       "VBox(children=(HBox(children=(IntProgress(value=0, description='0.00%', max=11947), Label(value='0 / 11947')))…"
      ]
     },
     "metadata": {},
     "output_type": "display_data"
    },
    {
     "data": {
      "application/vnd.jupyter.widget-view+json": {
       "model_id": "1132e81420014f2db9545f7a16ed8d94",
       "version_major": 2,
       "version_minor": 0
      },
      "text/plain": [
       "VBox(children=(HBox(children=(IntProgress(value=0, description='0.00%', max=10673), Label(value='0 / 10673')))…"
      ]
     },
     "metadata": {},
     "output_type": "display_data"
    },
    {
     "data": {
      "application/vnd.jupyter.widget-view+json": {
       "model_id": "5c57c7c76da04c05a2019177c9d9ed63",
       "version_major": 2,
       "version_minor": 0
      },
      "text/plain": [
       "VBox(children=(HBox(children=(IntProgress(value=0, description='0.00%', max=9791), Label(value='0 / 9791'))), …"
      ]
     },
     "metadata": {},
     "output_type": "display_data"
    },
    {
     "data": {
      "application/vnd.jupyter.widget-view+json": {
       "model_id": "19c6efaa28564e86a5852342df8e1d1b",
       "version_major": 2,
       "version_minor": 0
      },
      "text/plain": [
       "VBox(children=(HBox(children=(IntProgress(value=0, description='0.00%', max=9987), Label(value='0 / 9987'))), …"
      ]
     },
     "metadata": {},
     "output_type": "display_data"
    },
    {
     "data": {
      "application/vnd.jupyter.widget-view+json": {
       "model_id": "10da4b1fb34848c7939b0f6e1c781ec9",
       "version_major": 2,
       "version_minor": 0
      },
      "text/plain": [
       "VBox(children=(HBox(children=(IntProgress(value=0, description='0.00%', max=11319), Label(value='0 / 11319')))…"
      ]
     },
     "metadata": {},
     "output_type": "display_data"
    },
    {
     "data": {
      "application/vnd.jupyter.widget-view+json": {
       "model_id": "7c0212189e534c00923c1b0552ddfc32",
       "version_major": 2,
       "version_minor": 0
      },
      "text/plain": [
       "VBox(children=(HBox(children=(IntProgress(value=0, description='0.00%', max=9097), Label(value='0 / 9097'))), …"
      ]
     },
     "metadata": {},
     "output_type": "display_data"
    },
    {
     "data": {
      "application/vnd.jupyter.widget-view+json": {
       "model_id": "42e6d30683a34be2b62561fd7d93747f",
       "version_major": 2,
       "version_minor": 0
      },
      "text/plain": [
       "VBox(children=(HBox(children=(IntProgress(value=0, description='0.00%', max=8098), Label(value='0 / 8098'))), …"
      ]
     },
     "metadata": {},
     "output_type": "display_data"
    },
    {
     "name": "stderr",
     "output_type": "stream",
     "text": [
      "/home/jva/anaconda3/lib/python3.8/site-packages/IPython/core/interactiveshell.py:3071: DtypeWarning: Columns (24) have mixed types.Specify dtype option on import or set low_memory=False.\n",
      "  has_raised = await self.run_ast_nodes(code_ast.body, cell_name,\n"
     ]
    },
    {
     "data": {
      "application/vnd.jupyter.widget-view+json": {
       "model_id": "02db173ade6f485d972a0d42404bf2db",
       "version_major": 2,
       "version_minor": 0
      },
      "text/plain": [
       "VBox(children=(HBox(children=(IntProgress(value=0, description='0.00%', max=8470), Label(value='0 / 8470'))), …"
      ]
     },
     "metadata": {},
     "output_type": "display_data"
    },
    {
     "data": {
      "application/vnd.jupyter.widget-view+json": {
       "model_id": "b799c50f10ab49768ec141e40c86f6d4",
       "version_major": 2,
       "version_minor": 0
      },
      "text/plain": [
       "VBox(children=(HBox(children=(IntProgress(value=0, description='0.00%', max=9312), Label(value='0 / 9312'))), …"
      ]
     },
     "metadata": {},
     "output_type": "display_data"
    },
    {
     "name": "stdout",
     "output_type": "stream",
     "text": [
      "\n"
     ]
    }
   ],
   "source": [
    "#declare master output dataframe for each looped result to be appended\n",
    "fires_output = pd.DataFrame()\n",
    "#loop through each year\n",
    "for year in tqdm_notebook(range(1992, 2016)):\n",
    "    #get weather data csv\n",
    "    weather_df = pd.read_csv('weatherdata/US_weather_{}.csv'.format(year))\n",
    "    #create date column yyyy-mm-dd\n",
    "    weather_df['formatted_date'] = pd.to_datetime(weather_df['year']*10000+weather_df['mo']*100+weather_df['da'],\n",
    "                                                    format='%Y%m%d')\n",
    "    #create refkey column\n",
    "    weather_df['stn'] = weather_df['stn'].astype('str')\n",
    "    weather_df['wban'] = weather_df['wban'].astype('str')\n",
    "    weather_df['ref_key'] = weather_df['stn'] + weather_df['wban']\n",
    "    #merge stations data to weather data\n",
    "    weatherwith_stations = pd.merge(weather_df, \n",
    "                                    df_stations, \n",
    "                                    how='inner', \n",
    "                                    left_on='ref_key', \n",
    "                                    right_on = 'ref_key')\n",
    "    #filter to weather stations that only have over 345 observations which is 75 percent of weather stations\n",
    "    weatherwith_stations = weatherwith_stations.groupby(['ref_key','lat','lon'])['formatted_date'].count()\n",
    "    weatherwith_stations = pd.DataFrame(weatherwith_stations)\n",
    "    weatherwith_stations.reset_index(inplace=True)\n",
    "    weatherwith_stations = weatherwith_stations[weatherwith_stations['formatted_date'] >= 345]\n",
    "    #filter fire dataset\n",
    "    firedf2 = firedf[firedf['FIRE_YEAR'] == year]\n",
    "    #apply functions to find nearest stations:\n",
    "    firedf2['ref_key'] = firedf2.parallel_apply(\n",
    "        lambda row: find_nearest(row['LATITUDE'], row['LONGITUDE']), \n",
    "        axis=1)\n",
    "    #convert resulting tuple to columns\n",
    "    firedf2[['weather_obs_key', 'distance']] = pd.DataFrame(firedf2['ref_key'].tolist(), \n",
    "                                                                  index=firedf2.index)\n",
    "    #append results\n",
    "    fires_output = fires_output.append(firedf2)\n"
   ]
  },
  {
   "cell_type": "code",
   "execution_count": 6,
   "metadata": {},
   "outputs": [
    {
     "data": {
      "text/plain": [
       "count    1.880465e+06\n",
       "mean     3.685680e+01\n",
       "std      2.350581e+01\n",
       "min      0.000000e+00\n",
       "25%      1.880022e+01\n",
       "50%      3.269817e+01\n",
       "75%      5.033188e+01\n",
       "max      8.355979e+02\n",
       "Name: distance, dtype: float64"
      ]
     },
     "execution_count": 6,
     "metadata": {},
     "output_type": "execute_result"
    }
   ],
   "source": [
    "#describe distance distribution\n",
    "fires_output['distance'].describe()"
   ]
  },
  {
   "cell_type": "code",
   "execution_count": 12,
   "metadata": {
    "scrolled": false
   },
   "outputs": [
    {
     "data": {
      "text/html": [
       "<div>\n",
       "<style scoped>\n",
       "    .dataframe tbody tr th:only-of-type {\n",
       "        vertical-align: middle;\n",
       "    }\n",
       "\n",
       "    .dataframe tbody tr th {\n",
       "        vertical-align: top;\n",
       "    }\n",
       "\n",
       "    .dataframe thead th {\n",
       "        text-align: right;\n",
       "    }\n",
       "</style>\n",
       "<table border=\"1\" class=\"dataframe\">\n",
       "  <thead>\n",
       "    <tr style=\"text-align: right;\">\n",
       "      <th></th>\n",
       "      <th>FIRE_YEAR</th>\n",
       "      <th>DISCOVERY_DOY</th>\n",
       "      <th>FIRE_SIZE</th>\n",
       "      <th>LATITUDE</th>\n",
       "      <th>LONGITUDE</th>\n",
       "      <th>STAT_CAUSE_DESCR</th>\n",
       "      <th>STATE</th>\n",
       "      <th>FORMATTED_DATE</th>\n",
       "      <th>ref_key</th>\n",
       "      <th>weather_obs_key</th>\n",
       "      <th>distance</th>\n",
       "    </tr>\n",
       "  </thead>\n",
       "  <tbody>\n",
       "    <tr>\n",
       "      <th>293582</th>\n",
       "      <td>2000</td>\n",
       "      <td>64</td>\n",
       "      <td>73.20</td>\n",
       "      <td>35.050000</td>\n",
       "      <td>-107.542300</td>\n",
       "      <td>Debris Burning</td>\n",
       "      <td>NM</td>\n",
       "      <td>2000-03-04</td>\n",
       "      <td>(72365023050, 84.32947700057599)</td>\n",
       "      <td>72365023050</td>\n",
       "      <td>84.329477</td>\n",
       "    </tr>\n",
       "    <tr>\n",
       "      <th>1756051</th>\n",
       "      <td>2014</td>\n",
       "      <td>107</td>\n",
       "      <td>2.00</td>\n",
       "      <td>38.287600</td>\n",
       "      <td>-92.865650</td>\n",
       "      <td>Debris Burning</td>\n",
       "      <td>MO</td>\n",
       "      <td>2014-04-17</td>\n",
       "      <td>(72445953931, 34.64779736945564)</td>\n",
       "      <td>72445953931</td>\n",
       "      <td>34.647797</td>\n",
       "    </tr>\n",
       "    <tr>\n",
       "      <th>102728</th>\n",
       "      <td>1997</td>\n",
       "      <td>275</td>\n",
       "      <td>0.50</td>\n",
       "      <td>34.366667</td>\n",
       "      <td>-87.300000</td>\n",
       "      <td>Arson</td>\n",
       "      <td>AL</td>\n",
       "      <td>1997-10-02</td>\n",
       "      <td>(72323513896, 50.15190075051172)</td>\n",
       "      <td>72323513896</td>\n",
       "      <td>50.151901</td>\n",
       "    </tr>\n",
       "    <tr>\n",
       "      <th>405895</th>\n",
       "      <td>2004</td>\n",
       "      <td>156</td>\n",
       "      <td>4.50</td>\n",
       "      <td>29.186110</td>\n",
       "      <td>-82.630000</td>\n",
       "      <td>Lightning</td>\n",
       "      <td>FL</td>\n",
       "      <td>2004-06-04</td>\n",
       "      <td>(99464099999, 39.176722631066994)</td>\n",
       "      <td>99464099999</td>\n",
       "      <td>39.176723</td>\n",
       "    </tr>\n",
       "    <tr>\n",
       "      <th>1582404</th>\n",
       "      <td>2012</td>\n",
       "      <td>114</td>\n",
       "      <td>0.10</td>\n",
       "      <td>42.981100</td>\n",
       "      <td>-108.917800</td>\n",
       "      <td>Debris Burning</td>\n",
       "      <td>WY</td>\n",
       "      <td>2012-04-23</td>\n",
       "      <td>(72576024021, 24.19125708998845)</td>\n",
       "      <td>72576024021</td>\n",
       "      <td>24.191257</td>\n",
       "    </tr>\n",
       "    <tr>\n",
       "      <th>1354491</th>\n",
       "      <td>1994</td>\n",
       "      <td>113</td>\n",
       "      <td>44.00</td>\n",
       "      <td>42.179420</td>\n",
       "      <td>-78.704621</td>\n",
       "      <td>Debris Burning</td>\n",
       "      <td>NY</td>\n",
       "      <td>1994-04-23</td>\n",
       "      <td>(7252664751, 42.7894824374592)</td>\n",
       "      <td>7252664751</td>\n",
       "      <td>42.789482</td>\n",
       "    </tr>\n",
       "    <tr>\n",
       "      <th>668126</th>\n",
       "      <td>2007</td>\n",
       "      <td>213</td>\n",
       "      <td>0.20</td>\n",
       "      <td>47.745860</td>\n",
       "      <td>-117.429900</td>\n",
       "      <td>Children</td>\n",
       "      <td>WA</td>\n",
       "      <td>2007-08-01</td>\n",
       "      <td>(72785694176, 10.734764593976466)</td>\n",
       "      <td>72785694176</td>\n",
       "      <td>10.734765</td>\n",
       "    </tr>\n",
       "    <tr>\n",
       "      <th>1275620</th>\n",
       "      <td>2009</td>\n",
       "      <td>123</td>\n",
       "      <td>2.00</td>\n",
       "      <td>45.181190</td>\n",
       "      <td>-91.558620</td>\n",
       "      <td>Debris Burning</td>\n",
       "      <td>WI</td>\n",
       "      <td>2009-05-03</td>\n",
       "      <td>(72646754909, 31.31122197677561)</td>\n",
       "      <td>72646754909</td>\n",
       "      <td>31.311222</td>\n",
       "    </tr>\n",
       "    <tr>\n",
       "      <th>1010373</th>\n",
       "      <td>1994</td>\n",
       "      <td>64</td>\n",
       "      <td>1.00</td>\n",
       "      <td>36.071700</td>\n",
       "      <td>-80.461700</td>\n",
       "      <td>Debris Burning</td>\n",
       "      <td>NC</td>\n",
       "      <td>1994-03-05</td>\n",
       "      <td>(72319393807, 22.621709063104838)</td>\n",
       "      <td>72319393807</td>\n",
       "      <td>22.621709</td>\n",
       "    </tr>\n",
       "    <tr>\n",
       "      <th>1814165</th>\n",
       "      <td>2015</td>\n",
       "      <td>52</td>\n",
       "      <td>0.50</td>\n",
       "      <td>31.841944</td>\n",
       "      <td>-103.117222</td>\n",
       "      <td>Equipment Use</td>\n",
       "      <td>TX</td>\n",
       "      <td>2015-02-21</td>\n",
       "      <td>(72265623040, 10.56489018681169)</td>\n",
       "      <td>72265623040</td>\n",
       "      <td>10.564890</td>\n",
       "    </tr>\n",
       "    <tr>\n",
       "      <th>69701</th>\n",
       "      <td>1994</td>\n",
       "      <td>201</td>\n",
       "      <td>0.50</td>\n",
       "      <td>41.548333</td>\n",
       "      <td>-123.168333</td>\n",
       "      <td>Lightning</td>\n",
       "      <td>CA</td>\n",
       "      <td>1994-07-20</td>\n",
       "      <td>(72595524259, 63.66832094108036)</td>\n",
       "      <td>72595524259</td>\n",
       "      <td>63.668321</td>\n",
       "    </tr>\n",
       "    <tr>\n",
       "      <th>1721290</th>\n",
       "      <td>2011</td>\n",
       "      <td>92</td>\n",
       "      <td>1.00</td>\n",
       "      <td>18.036682</td>\n",
       "      <td>-66.254295</td>\n",
       "      <td>Missing/Undefined</td>\n",
       "      <td>PR</td>\n",
       "      <td>2011-04-02</td>\n",
       "      <td>(99800399999, 9.898206012235411)</td>\n",
       "      <td>99800399999</td>\n",
       "      <td>9.898206</td>\n",
       "    </tr>\n",
       "    <tr>\n",
       "      <th>232846</th>\n",
       "      <td>1992</td>\n",
       "      <td>175</td>\n",
       "      <td>0.10</td>\n",
       "      <td>42.749800</td>\n",
       "      <td>-122.767800</td>\n",
       "      <td>Lightning</td>\n",
       "      <td>OR</td>\n",
       "      <td>1992-06-23</td>\n",
       "      <td>(72597024225, 42.624655874280684)</td>\n",
       "      <td>72597024225</td>\n",
       "      <td>42.624656</td>\n",
       "    </tr>\n",
       "    <tr>\n",
       "      <th>173447</th>\n",
       "      <td>1995</td>\n",
       "      <td>40</td>\n",
       "      <td>6.00</td>\n",
       "      <td>36.000100</td>\n",
       "      <td>-95.000200</td>\n",
       "      <td>Arson</td>\n",
       "      <td>OK</td>\n",
       "      <td>1995-02-09</td>\n",
       "      <td>(72344399999, 51.51013584135637)</td>\n",
       "      <td>72344399999</td>\n",
       "      <td>51.510136</td>\n",
       "    </tr>\n",
       "    <tr>\n",
       "      <th>1532566</th>\n",
       "      <td>2009</td>\n",
       "      <td>75</td>\n",
       "      <td>0.10</td>\n",
       "      <td>30.653773</td>\n",
       "      <td>-97.765760</td>\n",
       "      <td>Miscellaneous</td>\n",
       "      <td>TX</td>\n",
       "      <td>2009-03-16</td>\n",
       "      <td>(72254753942, 8.759441659340716)</td>\n",
       "      <td>72254753942</td>\n",
       "      <td>8.759442</td>\n",
       "    </tr>\n",
       "    <tr>\n",
       "      <th>1380287</th>\n",
       "      <td>1996</td>\n",
       "      <td>64</td>\n",
       "      <td>5.90</td>\n",
       "      <td>32.560900</td>\n",
       "      <td>-82.418300</td>\n",
       "      <td>Arson</td>\n",
       "      <td>GA</td>\n",
       "      <td>1996-03-04</td>\n",
       "      <td>(7221803820, 98.8881786122065)</td>\n",
       "      <td>7221803820</td>\n",
       "      <td>98.888179</td>\n",
       "    </tr>\n",
       "    <tr>\n",
       "      <th>1603880</th>\n",
       "      <td>2012</td>\n",
       "      <td>314</td>\n",
       "      <td>3.60</td>\n",
       "      <td>30.717900</td>\n",
       "      <td>-93.395500</td>\n",
       "      <td>Arson</td>\n",
       "      <td>LA</td>\n",
       "      <td>2012-11-09</td>\n",
       "      <td>(7223903931, 42.12934803811267)</td>\n",
       "      <td>7223903931</td>\n",
       "      <td>42.129348</td>\n",
       "    </tr>\n",
       "    <tr>\n",
       "      <th>426574</th>\n",
       "      <td>2005</td>\n",
       "      <td>23</td>\n",
       "      <td>0.05</td>\n",
       "      <td>31.280359</td>\n",
       "      <td>-82.112129</td>\n",
       "      <td>Arson</td>\n",
       "      <td>GA</td>\n",
       "      <td>2005-01-23</td>\n",
       "      <td>(72213013861, 27.568570075109772)</td>\n",
       "      <td>72213013861</td>\n",
       "      <td>27.568570</td>\n",
       "    </tr>\n",
       "    <tr>\n",
       "      <th>399851</th>\n",
       "      <td>2003</td>\n",
       "      <td>95</td>\n",
       "      <td>2.00</td>\n",
       "      <td>30.966670</td>\n",
       "      <td>-85.450000</td>\n",
       "      <td>Debris Burning</td>\n",
       "      <td>FL</td>\n",
       "      <td>2003-04-05</td>\n",
       "      <td>(74776099999, 25.75460974232384)</td>\n",
       "      <td>74776099999</td>\n",
       "      <td>25.754610</td>\n",
       "    </tr>\n",
       "    <tr>\n",
       "      <th>380712</th>\n",
       "      <td>2002</td>\n",
       "      <td>199</td>\n",
       "      <td>0.10</td>\n",
       "      <td>64.890970</td>\n",
       "      <td>-147.784500</td>\n",
       "      <td>Powerline</td>\n",
       "      <td>AK</td>\n",
       "      <td>2002-07-18</td>\n",
       "      <td>(70261026411, 10.593452733127235)</td>\n",
       "      <td>70261026411</td>\n",
       "      <td>10.593453</td>\n",
       "    </tr>\n",
       "    <tr>\n",
       "      <th>300996</th>\n",
       "      <td>2001</td>\n",
       "      <td>149</td>\n",
       "      <td>1.00</td>\n",
       "      <td>33.118700</td>\n",
       "      <td>-110.102300</td>\n",
       "      <td>Miscellaneous</td>\n",
       "      <td>AZ</td>\n",
       "      <td>2001-05-29</td>\n",
       "      <td>(72274799999, 52.997575076791996)</td>\n",
       "      <td>72274799999</td>\n",
       "      <td>52.997575</td>\n",
       "    </tr>\n",
       "    <tr>\n",
       "      <th>1155278</th>\n",
       "      <td>2003</td>\n",
       "      <td>274</td>\n",
       "      <td>1.50</td>\n",
       "      <td>33.370966</td>\n",
       "      <td>-85.621257</td>\n",
       "      <td>Debris Burning</td>\n",
       "      <td>AL</td>\n",
       "      <td>2003-10-01</td>\n",
       "      <td>(72228713871, 32.419907690152854)</td>\n",
       "      <td>72228713871</td>\n",
       "      <td>32.419908</td>\n",
       "    </tr>\n",
       "    <tr>\n",
       "      <th>1081449</th>\n",
       "      <td>1996</td>\n",
       "      <td>100</td>\n",
       "      <td>2.00</td>\n",
       "      <td>37.003889</td>\n",
       "      <td>-120.156111</td>\n",
       "      <td>Miscellaneous</td>\n",
       "      <td>CA</td>\n",
       "      <td>1996-04-09</td>\n",
       "      <td>(72389723167, 42.62999449021923)</td>\n",
       "      <td>72389723167</td>\n",
       "      <td>42.629994</td>\n",
       "    </tr>\n",
       "    <tr>\n",
       "      <th>260603</th>\n",
       "      <td>2000</td>\n",
       "      <td>224</td>\n",
       "      <td>1.50</td>\n",
       "      <td>45.283300</td>\n",
       "      <td>-101.771300</td>\n",
       "      <td>Lightning</td>\n",
       "      <td>SD</td>\n",
       "      <td>2000-08-11</td>\n",
       "      <td>(72758499999, 106.39831051235282)</td>\n",
       "      <td>72758499999</td>\n",
       "      <td>106.398311</td>\n",
       "    </tr>\n",
       "    <tr>\n",
       "      <th>476969</th>\n",
       "      <td>2006</td>\n",
       "      <td>68</td>\n",
       "      <td>6.00</td>\n",
       "      <td>30.346696</td>\n",
       "      <td>-90.652444</td>\n",
       "      <td>Arson</td>\n",
       "      <td>LA</td>\n",
       "      <td>2006-03-09</td>\n",
       "      <td>(72231713970, 51.91899164811146)</td>\n",
       "      <td>72231713970</td>\n",
       "      <td>51.918992</td>\n",
       "    </tr>\n",
       "    <tr>\n",
       "      <th>526129</th>\n",
       "      <td>2007</td>\n",
       "      <td>48</td>\n",
       "      <td>0.10</td>\n",
       "      <td>35.200230</td>\n",
       "      <td>-79.218640</td>\n",
       "      <td>Missing/Undefined</td>\n",
       "      <td>NC</td>\n",
       "      <td>2007-02-17</td>\n",
       "      <td>(7231433720, 16.182476152322163)</td>\n",
       "      <td>7231433720</td>\n",
       "      <td>16.182476</td>\n",
       "    </tr>\n",
       "    <tr>\n",
       "      <th>665905</th>\n",
       "      <td>2009</td>\n",
       "      <td>22</td>\n",
       "      <td>1.50</td>\n",
       "      <td>38.323890</td>\n",
       "      <td>-77.867500</td>\n",
       "      <td>Debris Burning</td>\n",
       "      <td>VA</td>\n",
       "      <td>2009-01-22</td>\n",
       "      <td>(7221673718, 17.771391707961097)</td>\n",
       "      <td>7221673718</td>\n",
       "      <td>17.771392</td>\n",
       "    </tr>\n",
       "    <tr>\n",
       "      <th>939259</th>\n",
       "      <td>1999</td>\n",
       "      <td>323</td>\n",
       "      <td>30.00</td>\n",
       "      <td>36.063300</td>\n",
       "      <td>-84.360000</td>\n",
       "      <td>Miscellaneous</td>\n",
       "      <td>TN</td>\n",
       "      <td>1999-11-19</td>\n",
       "      <td>(72326013891, 43.33170853619882)</td>\n",
       "      <td>72326013891</td>\n",
       "      <td>43.331709</td>\n",
       "    </tr>\n",
       "    <tr>\n",
       "      <th>876680</th>\n",
       "      <td>1999</td>\n",
       "      <td>123</td>\n",
       "      <td>0.50</td>\n",
       "      <td>33.127500</td>\n",
       "      <td>-84.953900</td>\n",
       "      <td>Debris Burning</td>\n",
       "      <td>GA</td>\n",
       "      <td>1999-05-03</td>\n",
       "      <td>(72219799999, 43.73368970703031)</td>\n",
       "      <td>72219799999</td>\n",
       "      <td>43.733690</td>\n",
       "    </tr>\n",
       "    <tr>\n",
       "      <th>257240</th>\n",
       "      <td>2008</td>\n",
       "      <td>137</td>\n",
       "      <td>1.00</td>\n",
       "      <td>46.019700</td>\n",
       "      <td>-100.644200</td>\n",
       "      <td>Miscellaneous</td>\n",
       "      <td>ND</td>\n",
       "      <td>2008-05-16</td>\n",
       "      <td>(72668594052, 55.76667343272797)</td>\n",
       "      <td>72668594052</td>\n",
       "      <td>55.766673</td>\n",
       "    </tr>\n",
       "    <tr>\n",
       "      <th>393618</th>\n",
       "      <td>2005</td>\n",
       "      <td>70</td>\n",
       "      <td>0.10</td>\n",
       "      <td>37.388240</td>\n",
       "      <td>-102.233050</td>\n",
       "      <td>Missing/Undefined</td>\n",
       "      <td>CO</td>\n",
       "      <td>2005-03-11</td>\n",
       "      <td>(72464699999, 35.90569429495669)</td>\n",
       "      <td>72464699999</td>\n",
       "      <td>35.905694</td>\n",
       "    </tr>\n",
       "    <tr>\n",
       "      <th>1214304</th>\n",
       "      <td>2010</td>\n",
       "      <td>87</td>\n",
       "      <td>3.40</td>\n",
       "      <td>48.250800</td>\n",
       "      <td>-109.757400</td>\n",
       "      <td>Arson</td>\n",
       "      <td>MT</td>\n",
       "      <td>2010-03-28</td>\n",
       "      <td>(72777094012, 32.493787962398414)</td>\n",
       "      <td>72777094012</td>\n",
       "      <td>32.493788</td>\n",
       "    </tr>\n",
       "    <tr>\n",
       "      <th>1343898</th>\n",
       "      <td>2001</td>\n",
       "      <td>289</td>\n",
       "      <td>0.10</td>\n",
       "      <td>42.642401</td>\n",
       "      <td>-73.782690</td>\n",
       "      <td>Powerline</td>\n",
       "      <td>NY</td>\n",
       "      <td>2001-10-16</td>\n",
       "      <td>(72518014735, 11.707048095665815)</td>\n",
       "      <td>72518014735</td>\n",
       "      <td>11.707048</td>\n",
       "    </tr>\n",
       "    <tr>\n",
       "      <th>610528</th>\n",
       "      <td>1996</td>\n",
       "      <td>42</td>\n",
       "      <td>135.00</td>\n",
       "      <td>30.435420</td>\n",
       "      <td>-93.768750</td>\n",
       "      <td>Arson</td>\n",
       "      <td>TX</td>\n",
       "      <td>1996-02-11</td>\n",
       "      <td>(72241012917, 59.069368847273125)</td>\n",
       "      <td>72241012917</td>\n",
       "      <td>59.069369</td>\n",
       "    </tr>\n",
       "    <tr>\n",
       "      <th>131978</th>\n",
       "      <td>2000</td>\n",
       "      <td>357</td>\n",
       "      <td>0.10</td>\n",
       "      <td>34.218611</td>\n",
       "      <td>-117.250000</td>\n",
       "      <td>Children</td>\n",
       "      <td>CA</td>\n",
       "      <td>2000-12-22</td>\n",
       "      <td>(72286999999, 34.29479535333627)</td>\n",
       "      <td>72286999999</td>\n",
       "      <td>34.294795</td>\n",
       "    </tr>\n",
       "    <tr>\n",
       "      <th>28596</th>\n",
       "      <td>2008</td>\n",
       "      <td>204</td>\n",
       "      <td>0.10</td>\n",
       "      <td>44.018333</td>\n",
       "      <td>-115.609722</td>\n",
       "      <td>Lightning</td>\n",
       "      <td>ID</td>\n",
       "      <td>2008-07-22</td>\n",
       "      <td>(7268244112, 57.103093482282304)</td>\n",
       "      <td>7268244112</td>\n",
       "      <td>57.103093</td>\n",
       "    </tr>\n",
       "    <tr>\n",
       "      <th>919067</th>\n",
       "      <td>2000</td>\n",
       "      <td>122</td>\n",
       "      <td>0.50</td>\n",
       "      <td>33.590300</td>\n",
       "      <td>-81.810800</td>\n",
       "      <td>Railroad</td>\n",
       "      <td>SC</td>\n",
       "      <td>2000-05-01</td>\n",
       "      <td>(72218199999, 25.2072294330534)</td>\n",
       "      <td>72218199999</td>\n",
       "      <td>25.207229</td>\n",
       "    </tr>\n",
       "    <tr>\n",
       "      <th>1635956</th>\n",
       "      <td>2013</td>\n",
       "      <td>239</td>\n",
       "      <td>0.10</td>\n",
       "      <td>42.928611</td>\n",
       "      <td>-122.672500</td>\n",
       "      <td>Lightning</td>\n",
       "      <td>OR</td>\n",
       "      <td>2013-08-27</td>\n",
       "      <td>(72597024225, 63.79011552823652)</td>\n",
       "      <td>72597024225</td>\n",
       "      <td>63.790116</td>\n",
       "    </tr>\n",
       "    <tr>\n",
       "      <th>297465</th>\n",
       "      <td>2003</td>\n",
       "      <td>104</td>\n",
       "      <td>0.10</td>\n",
       "      <td>33.886700</td>\n",
       "      <td>-109.799000</td>\n",
       "      <td>Arson</td>\n",
       "      <td>AZ</td>\n",
       "      <td>2003-04-14</td>\n",
       "      <td>(72375499999, 79.84778798593433)</td>\n",
       "      <td>72375499999</td>\n",
       "      <td>79.847788</td>\n",
       "    </tr>\n",
       "    <tr>\n",
       "      <th>1686224</th>\n",
       "      <td>2013</td>\n",
       "      <td>325</td>\n",
       "      <td>0.50</td>\n",
       "      <td>34.629303</td>\n",
       "      <td>-80.684685</td>\n",
       "      <td>Campfire</td>\n",
       "      <td>SC</td>\n",
       "      <td>2013-11-21</td>\n",
       "      <td>(72060799999, 18.737906595961064)</td>\n",
       "      <td>72060799999</td>\n",
       "      <td>18.737907</td>\n",
       "    </tr>\n",
       "    <tr>\n",
       "      <th>955797</th>\n",
       "      <td>1997</td>\n",
       "      <td>191</td>\n",
       "      <td>0.10</td>\n",
       "      <td>29.200000</td>\n",
       "      <td>-82.900000</td>\n",
       "      <td>Lightning</td>\n",
       "      <td>FL</td>\n",
       "      <td>1997-07-10</td>\n",
       "      <td>(72205599999, 66.40708767061771)</td>\n",
       "      <td>72205599999</td>\n",
       "      <td>66.407088</td>\n",
       "    </tr>\n",
       "    <tr>\n",
       "      <th>434584</th>\n",
       "      <td>2004</td>\n",
       "      <td>88</td>\n",
       "      <td>0.30</td>\n",
       "      <td>31.343488</td>\n",
       "      <td>-82.190710</td>\n",
       "      <td>Debris Burning</td>\n",
       "      <td>GA</td>\n",
       "      <td>2004-03-28</td>\n",
       "      <td>(72213013861, 22.43884910826095)</td>\n",
       "      <td>72213013861</td>\n",
       "      <td>22.438849</td>\n",
       "    </tr>\n",
       "    <tr>\n",
       "      <th>549290</th>\n",
       "      <td>1995</td>\n",
       "      <td>77</td>\n",
       "      <td>6.00</td>\n",
       "      <td>40.820830</td>\n",
       "      <td>-74.370830</td>\n",
       "      <td>Children</td>\n",
       "      <td>NJ</td>\n",
       "      <td>1995-03-18</td>\n",
       "      <td>(72409799999, 4.523652694995417)</td>\n",
       "      <td>72409799999</td>\n",
       "      <td>4.523653</td>\n",
       "    </tr>\n",
       "    <tr>\n",
       "      <th>53209</th>\n",
       "      <td>1992</td>\n",
       "      <td>202</td>\n",
       "      <td>6.00</td>\n",
       "      <td>33.611667</td>\n",
       "      <td>-117.411667</td>\n",
       "      <td>Equipment Use</td>\n",
       "      <td>CA</td>\n",
       "      <td>1992-07-20</td>\n",
       "      <td>(69014093101, 30.376854172091903)</td>\n",
       "      <td>69014093101</td>\n",
       "      <td>30.376854</td>\n",
       "    </tr>\n",
       "    <tr>\n",
       "      <th>1869729</th>\n",
       "      <td>2008</td>\n",
       "      <td>90</td>\n",
       "      <td>0.10</td>\n",
       "      <td>20.075323</td>\n",
       "      <td>-155.464218</td>\n",
       "      <td>Missing/Undefined</td>\n",
       "      <td>HI</td>\n",
       "      <td>2008-03-30</td>\n",
       "      <td>(91197721508, 36.29691312627397)</td>\n",
       "      <td>91197721508</td>\n",
       "      <td>36.296913</td>\n",
       "    </tr>\n",
       "    <tr>\n",
       "      <th>180701</th>\n",
       "      <td>1998</td>\n",
       "      <td>268</td>\n",
       "      <td>0.10</td>\n",
       "      <td>43.029200</td>\n",
       "      <td>-102.558800</td>\n",
       "      <td>Equipment Use</td>\n",
       "      <td>SD</td>\n",
       "      <td>1998-09-25</td>\n",
       "      <td>(72563624017, 48.82294319465973)</td>\n",
       "      <td>72563624017</td>\n",
       "      <td>48.822943</td>\n",
       "    </tr>\n",
       "    <tr>\n",
       "      <th>1060534</th>\n",
       "      <td>2001</td>\n",
       "      <td>262</td>\n",
       "      <td>250.00</td>\n",
       "      <td>42.337222</td>\n",
       "      <td>-112.838333</td>\n",
       "      <td>Debris Burning</td>\n",
       "      <td>ID</td>\n",
       "      <td>2001-09-19</td>\n",
       "      <td>(72578024156, 68.39318055949339)</td>\n",
       "      <td>72578024156</td>\n",
       "      <td>68.393181</td>\n",
       "    </tr>\n",
       "    <tr>\n",
       "      <th>1423458</th>\n",
       "      <td>2010</td>\n",
       "      <td>165</td>\n",
       "      <td>1.00</td>\n",
       "      <td>32.865000</td>\n",
       "      <td>-92.921990</td>\n",
       "      <td>Lightning</td>\n",
       "      <td>LA</td>\n",
       "      <td>2010-06-14</td>\n",
       "      <td>(72341993992, 40.84510849334189)</td>\n",
       "      <td>72341993992</td>\n",
       "      <td>40.845108</td>\n",
       "    </tr>\n",
       "    <tr>\n",
       "      <th>1747173</th>\n",
       "      <td>2014</td>\n",
       "      <td>222</td>\n",
       "      <td>0.10</td>\n",
       "      <td>43.252700</td>\n",
       "      <td>-74.315700</td>\n",
       "      <td>Campfire</td>\n",
       "      <td>NY</td>\n",
       "      <td>2014-08-10</td>\n",
       "      <td>(72522014750, 57.8949380332695)</td>\n",
       "      <td>72522014750</td>\n",
       "      <td>57.894938</td>\n",
       "    </tr>\n",
       "    <tr>\n",
       "      <th>1675630</th>\n",
       "      <td>2013</td>\n",
       "      <td>79</td>\n",
       "      <td>0.10</td>\n",
       "      <td>35.718300</td>\n",
       "      <td>-81.067000</td>\n",
       "      <td>Arson</td>\n",
       "      <td>NC</td>\n",
       "      <td>2013-03-20</td>\n",
       "      <td>(72305563816, 11.203821917045142)</td>\n",
       "      <td>72305563816</td>\n",
       "      <td>11.203822</td>\n",
       "    </tr>\n",
       "  </tbody>\n",
       "</table>\n",
       "</div>"
      ],
      "text/plain": [
       "         FIRE_YEAR  DISCOVERY_DOY  FIRE_SIZE   LATITUDE   LONGITUDE  \\\n",
       "293582        2000             64      73.20  35.050000 -107.542300   \n",
       "1756051       2014            107       2.00  38.287600  -92.865650   \n",
       "102728        1997            275       0.50  34.366667  -87.300000   \n",
       "405895        2004            156       4.50  29.186110  -82.630000   \n",
       "1582404       2012            114       0.10  42.981100 -108.917800   \n",
       "1354491       1994            113      44.00  42.179420  -78.704621   \n",
       "668126        2007            213       0.20  47.745860 -117.429900   \n",
       "1275620       2009            123       2.00  45.181190  -91.558620   \n",
       "1010373       1994             64       1.00  36.071700  -80.461700   \n",
       "1814165       2015             52       0.50  31.841944 -103.117222   \n",
       "69701         1994            201       0.50  41.548333 -123.168333   \n",
       "1721290       2011             92       1.00  18.036682  -66.254295   \n",
       "232846        1992            175       0.10  42.749800 -122.767800   \n",
       "173447        1995             40       6.00  36.000100  -95.000200   \n",
       "1532566       2009             75       0.10  30.653773  -97.765760   \n",
       "1380287       1996             64       5.90  32.560900  -82.418300   \n",
       "1603880       2012            314       3.60  30.717900  -93.395500   \n",
       "426574        2005             23       0.05  31.280359  -82.112129   \n",
       "399851        2003             95       2.00  30.966670  -85.450000   \n",
       "380712        2002            199       0.10  64.890970 -147.784500   \n",
       "300996        2001            149       1.00  33.118700 -110.102300   \n",
       "1155278       2003            274       1.50  33.370966  -85.621257   \n",
       "1081449       1996            100       2.00  37.003889 -120.156111   \n",
       "260603        2000            224       1.50  45.283300 -101.771300   \n",
       "476969        2006             68       6.00  30.346696  -90.652444   \n",
       "526129        2007             48       0.10  35.200230  -79.218640   \n",
       "665905        2009             22       1.50  38.323890  -77.867500   \n",
       "939259        1999            323      30.00  36.063300  -84.360000   \n",
       "876680        1999            123       0.50  33.127500  -84.953900   \n",
       "257240        2008            137       1.00  46.019700 -100.644200   \n",
       "393618        2005             70       0.10  37.388240 -102.233050   \n",
       "1214304       2010             87       3.40  48.250800 -109.757400   \n",
       "1343898       2001            289       0.10  42.642401  -73.782690   \n",
       "610528        1996             42     135.00  30.435420  -93.768750   \n",
       "131978        2000            357       0.10  34.218611 -117.250000   \n",
       "28596         2008            204       0.10  44.018333 -115.609722   \n",
       "919067        2000            122       0.50  33.590300  -81.810800   \n",
       "1635956       2013            239       0.10  42.928611 -122.672500   \n",
       "297465        2003            104       0.10  33.886700 -109.799000   \n",
       "1686224       2013            325       0.50  34.629303  -80.684685   \n",
       "955797        1997            191       0.10  29.200000  -82.900000   \n",
       "434584        2004             88       0.30  31.343488  -82.190710   \n",
       "549290        1995             77       6.00  40.820830  -74.370830   \n",
       "53209         1992            202       6.00  33.611667 -117.411667   \n",
       "1869729       2008             90       0.10  20.075323 -155.464218   \n",
       "180701        1998            268       0.10  43.029200 -102.558800   \n",
       "1060534       2001            262     250.00  42.337222 -112.838333   \n",
       "1423458       2010            165       1.00  32.865000  -92.921990   \n",
       "1747173       2014            222       0.10  43.252700  -74.315700   \n",
       "1675630       2013             79       0.10  35.718300  -81.067000   \n",
       "\n",
       "          STAT_CAUSE_DESCR STATE FORMATTED_DATE  \\\n",
       "293582      Debris Burning    NM     2000-03-04   \n",
       "1756051     Debris Burning    MO     2014-04-17   \n",
       "102728               Arson    AL     1997-10-02   \n",
       "405895           Lightning    FL     2004-06-04   \n",
       "1582404     Debris Burning    WY     2012-04-23   \n",
       "1354491     Debris Burning    NY     1994-04-23   \n",
       "668126            Children    WA     2007-08-01   \n",
       "1275620     Debris Burning    WI     2009-05-03   \n",
       "1010373     Debris Burning    NC     1994-03-05   \n",
       "1814165      Equipment Use    TX     2015-02-21   \n",
       "69701            Lightning    CA     1994-07-20   \n",
       "1721290  Missing/Undefined    PR     2011-04-02   \n",
       "232846           Lightning    OR     1992-06-23   \n",
       "173447               Arson    OK     1995-02-09   \n",
       "1532566      Miscellaneous    TX     2009-03-16   \n",
       "1380287              Arson    GA     1996-03-04   \n",
       "1603880              Arson    LA     2012-11-09   \n",
       "426574               Arson    GA     2005-01-23   \n",
       "399851      Debris Burning    FL     2003-04-05   \n",
       "380712           Powerline    AK     2002-07-18   \n",
       "300996       Miscellaneous    AZ     2001-05-29   \n",
       "1155278     Debris Burning    AL     2003-10-01   \n",
       "1081449      Miscellaneous    CA     1996-04-09   \n",
       "260603           Lightning    SD     2000-08-11   \n",
       "476969               Arson    LA     2006-03-09   \n",
       "526129   Missing/Undefined    NC     2007-02-17   \n",
       "665905      Debris Burning    VA     2009-01-22   \n",
       "939259       Miscellaneous    TN     1999-11-19   \n",
       "876680      Debris Burning    GA     1999-05-03   \n",
       "257240       Miscellaneous    ND     2008-05-16   \n",
       "393618   Missing/Undefined    CO     2005-03-11   \n",
       "1214304              Arson    MT     2010-03-28   \n",
       "1343898          Powerline    NY     2001-10-16   \n",
       "610528               Arson    TX     1996-02-11   \n",
       "131978            Children    CA     2000-12-22   \n",
       "28596            Lightning    ID     2008-07-22   \n",
       "919067            Railroad    SC     2000-05-01   \n",
       "1635956          Lightning    OR     2013-08-27   \n",
       "297465               Arson    AZ     2003-04-14   \n",
       "1686224           Campfire    SC     2013-11-21   \n",
       "955797           Lightning    FL     1997-07-10   \n",
       "434584      Debris Burning    GA     2004-03-28   \n",
       "549290            Children    NJ     1995-03-18   \n",
       "53209        Equipment Use    CA     1992-07-20   \n",
       "1869729  Missing/Undefined    HI     2008-03-30   \n",
       "180701       Equipment Use    SD     1998-09-25   \n",
       "1060534     Debris Burning    ID     2001-09-19   \n",
       "1423458          Lightning    LA     2010-06-14   \n",
       "1747173           Campfire    NY     2014-08-10   \n",
       "1675630              Arson    NC     2013-03-20   \n",
       "\n",
       "                                   ref_key weather_obs_key    distance  \n",
       "293582    (72365023050, 84.32947700057599)     72365023050   84.329477  \n",
       "1756051   (72445953931, 34.64779736945564)     72445953931   34.647797  \n",
       "102728    (72323513896, 50.15190075051172)     72323513896   50.151901  \n",
       "405895   (99464099999, 39.176722631066994)     99464099999   39.176723  \n",
       "1582404   (72576024021, 24.19125708998845)     72576024021   24.191257  \n",
       "1354491     (7252664751, 42.7894824374592)      7252664751   42.789482  \n",
       "668126   (72785694176, 10.734764593976466)     72785694176   10.734765  \n",
       "1275620   (72646754909, 31.31122197677561)     72646754909   31.311222  \n",
       "1010373  (72319393807, 22.621709063104838)     72319393807   22.621709  \n",
       "1814165   (72265623040, 10.56489018681169)     72265623040   10.564890  \n",
       "69701     (72595524259, 63.66832094108036)     72595524259   63.668321  \n",
       "1721290   (99800399999, 9.898206012235411)     99800399999    9.898206  \n",
       "232846   (72597024225, 42.624655874280684)     72597024225   42.624656  \n",
       "173447    (72344399999, 51.51013584135637)     72344399999   51.510136  \n",
       "1532566   (72254753942, 8.759441659340716)     72254753942    8.759442  \n",
       "1380287     (7221803820, 98.8881786122065)      7221803820   98.888179  \n",
       "1603880    (7223903931, 42.12934803811267)      7223903931   42.129348  \n",
       "426574   (72213013861, 27.568570075109772)     72213013861   27.568570  \n",
       "399851    (74776099999, 25.75460974232384)     74776099999   25.754610  \n",
       "380712   (70261026411, 10.593452733127235)     70261026411   10.593453  \n",
       "300996   (72274799999, 52.997575076791996)     72274799999   52.997575  \n",
       "1155278  (72228713871, 32.419907690152854)     72228713871   32.419908  \n",
       "1081449   (72389723167, 42.62999449021923)     72389723167   42.629994  \n",
       "260603   (72758499999, 106.39831051235282)     72758499999  106.398311  \n",
       "476969    (72231713970, 51.91899164811146)     72231713970   51.918992  \n",
       "526129    (7231433720, 16.182476152322163)      7231433720   16.182476  \n",
       "665905    (7221673718, 17.771391707961097)      7221673718   17.771392  \n",
       "939259    (72326013891, 43.33170853619882)     72326013891   43.331709  \n",
       "876680    (72219799999, 43.73368970703031)     72219799999   43.733690  \n",
       "257240    (72668594052, 55.76667343272797)     72668594052   55.766673  \n",
       "393618    (72464699999, 35.90569429495669)     72464699999   35.905694  \n",
       "1214304  (72777094012, 32.493787962398414)     72777094012   32.493788  \n",
       "1343898  (72518014735, 11.707048095665815)     72518014735   11.707048  \n",
       "610528   (72241012917, 59.069368847273125)     72241012917   59.069369  \n",
       "131978    (72286999999, 34.29479535333627)     72286999999   34.294795  \n",
       "28596     (7268244112, 57.103093482282304)      7268244112   57.103093  \n",
       "919067     (72218199999, 25.2072294330534)     72218199999   25.207229  \n",
       "1635956   (72597024225, 63.79011552823652)     72597024225   63.790116  \n",
       "297465    (72375499999, 79.84778798593433)     72375499999   79.847788  \n",
       "1686224  (72060799999, 18.737906595961064)     72060799999   18.737907  \n",
       "955797    (72205599999, 66.40708767061771)     72205599999   66.407088  \n",
       "434584    (72213013861, 22.43884910826095)     72213013861   22.438849  \n",
       "549290    (72409799999, 4.523652694995417)     72409799999    4.523653  \n",
       "53209    (69014093101, 30.376854172091903)     69014093101   30.376854  \n",
       "1869729   (91197721508, 36.29691312627397)     91197721508   36.296913  \n",
       "180701    (72563624017, 48.82294319465973)     72563624017   48.822943  \n",
       "1060534   (72578024156, 68.39318055949339)     72578024156   68.393181  \n",
       "1423458   (72341993992, 40.84510849334189)     72341993992   40.845108  \n",
       "1747173    (72522014750, 57.8949380332695)     72522014750   57.894938  \n",
       "1675630  (72305563816, 11.203821917045142)     72305563816   11.203822  "
      ]
     },
     "execution_count": 12,
     "metadata": {},
     "output_type": "execute_result"
    }
   ],
   "source": [
    "fires_output.sample(50)"
   ]
  },
  {
   "cell_type": "code",
   "execution_count": 9,
   "metadata": {},
   "outputs": [
    {
     "name": "stdout",
     "output_type": "stream",
     "text": [
      "[[<matplotlib.axes._subplots.AxesSubplot object at 0x7f1160cadac0>]]\n"
     ]
    },
    {
     "data": {
      "image/png": "[encoded data removed]",
      "text/plain": [
       "<Figure size 1440x1440 with 1 Axes>"
      ]
     },
     "metadata": {
      "needs_background": "light"
     },
     "output_type": "display_data"
    }
   ],
   "source": [
    "#visualize distribution of distance to stations\n",
    "print(fires_output.hist(column = 'distance', bins=300,figsize=(20,20)))"
   ]
  },
  {
   "cell_type": "code",
   "execution_count": 8,
   "metadata": {
    "scrolled": true
   },
   "outputs": [
    {
     "name": "stdout",
     "output_type": "stream",
     "text": [
      "<class 'pandas.core.frame.DataFrame'>\n",
      "Int64Index: 1880465 entries, 41875 to 1880464\n",
      "Data columns (total 11 columns):\n",
      " #   Column            Dtype         \n",
      "---  ------            -----         \n",
      " 0   FIRE_YEAR         int64         \n",
      " 1   DISCOVERY_DOY     int64         \n",
      " 2   FIRE_SIZE         float64       \n",
      " 3   LATITUDE          float64       \n",
      " 4   LONGITUDE         float64       \n",
      " 5   STAT_CAUSE_DESCR  object        \n",
      " 6   STATE             object        \n",
      " 7   FORMATTED_DATE    datetime64[ns]\n",
      " 8   ref_key           object        \n",
      " 9   weather_obs_key   object        \n",
      " 10  distance          float64       \n",
      "dtypes: datetime64[ns](1), float64(4), int64(2), object(4)\n",
      "memory usage: 172.2+ MB\n"
     ]
    }
   ],
   "source": [
    "#info about resulting dataframe\n",
    "fires_output.info()"
   ]
  },
  {
   "cell_type": "code",
   "execution_count": 10,
   "metadata": {},
   "outputs": [],
   "source": [
    "#outputdataset to csv\n",
    "fires_output.to_csv('full_fire_output_allstations_345.csv', index=False)"
   ]
  },
  {
   "cell_type": "code",
   "execution_count": null,
   "metadata": {},
   "outputs": [],
   "source": []
  }
 ],
 "metadata": {
  "kernelspec": {
   "display_name": "Python 3",
   "language": "python",
   "name": "python3"
  },
  "language_info": {
   "codemirror_mode": {
    "name": "ipython",
    "version": 3
   },
   "file_extension": ".py",
   "mimetype": "text/x-python",
   "name": "python",
   "nbconvert_exporter": "python",
   "pygments_lexer": "ipython3",
   "version": "3.7.3"
  }
 },
 "nbformat": 4,
 "nbformat_minor": 2
}
